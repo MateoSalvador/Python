{
 "cells": [
  {
   "cell_type": "markdown",
   "metadata": {},
   "source": [
    "# NUMPY. Computación numérica con Python\n",
    "\n",
    "El lenguaje Python es una excelente herramienta para la programación de propósito general, con una sintaxis altamente legible, tipos de datos ricos y poderosos."
   ]
  },
  {
   "cell_type": "markdown",
   "metadata": {},
   "source": [
    "---\n",
    "\n",
    "Sin embargo, no fue diseñado específicamente para computación científica y matemática.\n",
    "En particular, las listas de Python son contenedores muy flexibles, pero no son adecuadas para representar de manera eficiente construcciones matemáticas comunes como vectores y matrices.\n",
    "\n",
    "Afortunadamente, existe el paquete (módulo) **numpy**, que es un paquete que proporciona estructuras de datos vectoriales, matriciales y de mayor dimensión de alto rendimiento para Python. Está implementado en C y Fortran por lo que cuando los cálculos están vectorizados (formulados con vectores y matrices), el rendimiento es muy bueno. Se utiliza en casi todos los cálculos numéricos que utilizan Python."
   ]
  },
  {
   "cell_type": "markdown",
   "metadata": {},
   "source": [
    "¿Por qué no simplemente usar listas de Python para cálculos en lugar de crear un nuevo tipo de matriz?\n",
    "\n",
    "Hay varias razones:\n",
    "\n",
    "* Las listas de Python son muy generales. Pueden contener cualquier tipo de objeto. Se escriben dinámicamente. No admiten funciones matemáticas tales como multiplicaciones de matrices y puntos, etc. La implementación de tales funciones para listas de Python no sería muy eficiente debido a la tipificación dinámica.\n",
    "* Las matrices (arrays) Numpy están tipificadas estáticamente y son homogéneas. El tipo de los elementos se determina cuando se crea la matriz.\n",
    "* Las matrices Numpy son eficientes en memoria.\n",
    "* Debido a la tipificación estática, la implementación rápida de funciones matemáticas como la multiplicación y adición de matrices numéricas se puede implementar en un lenguaje compilado (se usa C y Fortran)."
   ]
  },
  {
   "cell_type": "markdown",
   "metadata": {},
   "source": [
    "## Conceptos básicos de Numpy\n",
    "\n",
    "Para usar **numpy** es necesario importar el módulo:"
   ]
  },
  {
   "cell_type": "markdown",
   "metadata": {},
   "source": [
    "<code>import numpy as np</code>"
   ]
  },
  {
   "cell_type": "code",
   "execution_count": null,
   "metadata": {},
   "outputs": [],
   "source": []
  },
  {
   "cell_type": "markdown",
   "metadata": {},
   "source": [
    "## Creando matrices numpy\n",
    "Hay varias formas de inicializar nuevas matrices numpy, por ejemplo desde\n",
    "\n",
    "1. Una lista de Python o tuplas.\n",
    "2. El uso de funciones generadoras de matrices, como `arange`, `linspace`, etc.\n",
    "3. Leer datos de archivos."
   ]
  },
  {
   "cell_type": "markdown",
   "metadata": {},
   "source": [
    "### 1. De una lista\n",
    "Por ejemplo, para crear nuevas matrices de vectores y matrices a partir de listas de Python, podemos usar la función `numpy.array`."
   ]
  },
  {
   "cell_type": "markdown",
   "metadata": {},
   "source": [
    "<code>#un vector: el argumento de la función de la matriz es una lista de Python\n",
    "v = np.array ([1,2,3,4])\n",
    "print(v, type(v))</code>"
   ]
  },
  {
   "cell_type": "code",
   "execution_count": null,
   "metadata": {},
   "outputs": [],
   "source": []
  },
  {
   "cell_type": "markdown",
   "metadata": {},
   "source": [
    "<code>#una matriz: el argumento de la función de matriz es una lista de Python anidada\n",
    "M = np.array ([[1, 2], [3, 4]])\n",
    "print(M, type(M))</code>"
   ]
  },
  {
   "cell_type": "code",
   "execution_count": null,
   "metadata": {},
   "outputs": [],
   "source": []
  },
  {
   "cell_type": "markdown",
   "metadata": {},
   "source": [
    "Si queremos, podemos definir explícitamente el tipo de datos del arreglo cuando lo creamos, usando el argumento de palabra clave `dtype`:"
   ]
  },
  {
   "cell_type": "markdown",
   "metadata": {},
   "source": [
    "<code>M = np.array([[1, 2], [3, 4]], dtype=int)\n",
    "M</code>"
   ]
  },
  {
   "cell_type": "code",
   "execution_count": null,
   "metadata": {},
   "outputs": [],
   "source": []
  },
  {
   "cell_type": "markdown",
   "metadata": {},
   "source": [
    "Los tipos comunes que se pueden usar con dtype son: int, float, complex, bool, object, etc.\n",
    "\n",
    "También podemos definir explícitamente el tamaño de bits de los tipos de datos, por ejemplo: int64, int16, float128, complex128."
   ]
  },
  {
   "cell_type": "markdown",
   "metadata": {},
   "source": [
    "### 2. Uso de funciones de generación de matrices\n",
    "Para matrices más grandes, no es práctico inicializar los datos manualmente, utilizando listas explícitas de Python. En su lugar, podemos usar una de las muchas funciones en `numpy` que genera matrices de diferentes formas. Algunos de los más comunes son:\n",
    "\n",
    "**zeros y ones**"
   ]
  },
  {
   "cell_type": "markdown",
   "metadata": {},
   "source": [
    "<code>np.zeros(5, dtype=float)</code>"
   ]
  },
  {
   "cell_type": "code",
   "execution_count": null,
   "metadata": {},
   "outputs": [],
   "source": []
  },
  {
   "cell_type": "markdown",
   "metadata": {},
   "source": [
    "<code>np.ones(5,dtype=float)</code>"
   ]
  },
  {
   "cell_type": "code",
   "execution_count": null,
   "metadata": {},
   "outputs": [],
   "source": []
  },
  {
   "cell_type": "markdown",
   "metadata": {},
   "source": [
    "<code>np.zeros((2,3),dtype=np.int64)</code>"
   ]
  },
  {
   "cell_type": "code",
   "execution_count": null,
   "metadata": {},
   "outputs": [],
   "source": []
  },
  {
   "cell_type": "markdown",
   "metadata": {},
   "source": [
    "<b>-arange</b>"
   ]
  },
  {
   "cell_type": "code",
   "execution_count": 5,
   "metadata": {},
   "outputs": [
    {
     "data": {
      "text/plain": [
       "array([ 0,  1,  2,  3,  4,  5,  6,  7,  8,  9, 10, 11, 12, 13, 14, 15, 16,\n",
       "       17, 18, 19])"
      ]
     },
     "execution_count": 5,
     "metadata": {},
     "output_type": "execute_result"
    }
   ],
   "source": [
    "import numpy as np\n",
    "x = np.arange(0, 20, 1) # arguments: start, stop, step\n",
    "x"
   ]
  },
  {
   "cell_type": "markdown",
   "metadata": {},
   "source": [
    "<b>-linspace and logspace</b>"
   ]
  },
  {
   "cell_type": "markdown",
   "metadata": {},
   "source": [
    "<code>print (\"Un vector de 5 elementos enytre 0 y 1:\")\n",
    "print (np.linspace(0, 1, 5))</code>"
   ]
  },
  {
   "cell_type": "code",
   "execution_count": null,
   "metadata": {},
   "outputs": [],
   "source": []
  },
  {
   "cell_type": "markdown",
   "metadata": {},
   "source": [
    "<code>print (\"un vector logaritmico de 10 elementos entre 10**0 y 10**3:\")\n",
    "print (np.logspace(0, 3, 10))</code>"
   ]
  },
  {
   "cell_type": "code",
   "execution_count": null,
   "metadata": {},
   "outputs": [],
   "source": []
  },
  {
   "cell_type": "markdown",
   "metadata": {},
   "source": [
    "<b>-Creación de arrays randómicos</b>"
   ]
  },
  {
   "cell_type": "markdown",
   "metadata": {},
   "source": [
    "<code>#números aleatorios uniformes entre [0,1]\n",
    "np.random.rand(1,10)</code>"
   ]
  },
  {
   "cell_type": "code",
   "execution_count": null,
   "metadata": {},
   "outputs": [],
   "source": []
  },
  {
   "cell_type": "markdown",
   "metadata": {},
   "source": [
    "<code>#5 valores de una distribución normal con una media de 10 y una varianza de 3 \n",
    "np.random.normal (10, 3, 5)</code>"
   ]
  },
  {
   "cell_type": "code",
   "execution_count": null,
   "metadata": {},
   "outputs": [],
   "source": []
  },
  {
   "cell_type": "markdown",
   "metadata": {},
   "source": [
    "<code>#una matriz diagonal\n",
    "np.diag([1,1,1,1])</code>"
   ]
  },
  {
   "cell_type": "code",
   "execution_count": null,
   "metadata": {},
   "outputs": [],
   "source": []
  }
 ],
 "metadata": {
  "kernelspec": {
   "display_name": "Python 3",
   "language": "python",
   "name": "python3"
  },
  "language_info": {
   "codemirror_mode": {
    "name": "ipython",
    "version": 3
   },
   "file_extension": ".py",
   "mimetype": "text/x-python",
   "name": "python",
   "nbconvert_exporter": "python",
   "pygments_lexer": "ipython3",
   "version": "3.8.5"
  }
 },
 "nbformat": 4,
 "nbformat_minor": 4
}
