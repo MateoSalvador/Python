{
 "cells": [
  {
   "cell_type": "markdown",
   "metadata": {},
   "source": [
    "# Introducción a Python\n",
    "Si necesitas ayuda acerca de la sintaxis, aquí un par de referencias:\n",
    "- https://www.w3schools.com/python/\n",
    "- https://wiki.python.org/moin/BeginnersGuide\n",
    "- https://www.google.com/"
   ]
  },
  {
   "cell_type": "markdown",
   "metadata": {},
   "source": [
    "Matemáticas simples:"
   ]
  },
  {
   "cell_type": "code",
   "execution_count": 1,
   "metadata": {},
   "outputs": [
    {
     "data": {
      "text/plain": [
       "2"
      ]
     },
     "execution_count": 1,
     "metadata": {},
     "output_type": "execute_result"
    }
   ],
   "source": [
    "1+1"
   ]
  },
  {
   "cell_type": "markdown",
   "metadata": {},
   "source": [
    "Asignar una variable:"
   ]
  },
  {
   "cell_type": "code",
   "execution_count": 2,
   "metadata": {},
   "outputs": [],
   "source": [
    "x=1+1"
   ]
  },
  {
   "cell_type": "markdown",
   "metadata": {},
   "source": [
    "Ver el valor de una variable:"
   ]
  },
  {
   "cell_type": "code",
   "execution_count": 5,
   "metadata": {},
   "outputs": [
    {
     "data": {
      "text/plain": [
       "2"
      ]
     },
     "execution_count": 5,
     "metadata": {},
     "output_type": "execute_result"
    }
   ],
   "source": [
    "x"
   ]
  },
  {
   "cell_type": "markdown",
   "metadata": {},
   "source": [
    "Imprimir el valor de una variable:"
   ]
  },
  {
   "cell_type": "code",
   "execution_count": 3,
   "metadata": {},
   "outputs": [
    {
     "name": "stdout",
     "output_type": "stream",
     "text": [
      "El valor de salida x es 2: \n"
     ]
    }
   ],
   "source": [
    "print('El valor de salida x es {}: '.format(x))"
   ]
  },
  {
   "cell_type": "markdown",
   "metadata": {},
   "source": [
    "Importar una biblioteca:"
   ]
  },
  {
   "cell_type": "code",
   "execution_count": 4,
   "metadata": {},
   "outputs": [],
   "source": [
    "import time"
   ]
  },
  {
   "cell_type": "markdown",
   "metadata": {},
   "source": [
    "Llamar a una función:"
   ]
  },
  {
   "cell_type": "code",
   "execution_count": 5,
   "metadata": {},
   "outputs": [
    {
     "data": {
      "text/plain": [
       "'Fri Jun 25 07:59:28 2021'"
      ]
     },
     "execution_count": 5,
     "metadata": {},
     "output_type": "execute_result"
    }
   ],
   "source": [
    "time.ctime()"
   ]
  },
  {
   "cell_type": "markdown",
   "metadata": {},
   "source": [
    "Definir una función:"
   ]
  },
  {
   "cell_type": "code",
   "execution_count": 9,
   "metadata": {},
   "outputs": [],
   "source": [
    "def myFunction(x, y=30):\n",
    "    return (x+y, x*y)"
   ]
  },
  {
   "cell_type": "markdown",
   "metadata": {},
   "source": [
    "Llamar a mi función:"
   ]
  },
  {
   "cell_type": "code",
   "execution_count": 11,
   "metadata": {},
   "outputs": [
    {
     "data": {
      "text/plain": [
       "600"
      ]
     },
     "execution_count": 11,
     "metadata": {},
     "output_type": "execute_result"
    }
   ],
   "source": [
    "ret1, ret2 = myFunction(20)\n",
    "ret2 "
   ]
  },
  {
   "cell_type": "markdown",
   "metadata": {},
   "source": [
    "Sentencia de control if:"
   ]
  },
  {
   "cell_type": "code",
   "execution_count": 14,
   "metadata": {},
   "outputs": [
    {
     "name": "stdout",
     "output_type": "stream",
     "text": [
      "¡Adivinaste!\n"
     ]
    }
   ],
   "source": [
    "x = 2\n",
    "if x==2:\n",
    "    print ('¡Adivinaste!')\n",
    "else:\n",
    "    print ('¡Intenta otra vez!')"
   ]
  },
  {
   "cell_type": "code",
   "execution_count": 21,
   "metadata": {},
   "outputs": [
    {
     "name": "stdout",
     "output_type": "stream",
     "text": [
      "1\n",
      "2\n",
      "3\n",
      "4\n",
      "5\n"
     ]
    }
   ],
   "source": [
    "for a in [1,2,3,4,5]:\n",
    "    print(a)"
   ]
  },
  {
   "cell_type": "code",
   "execution_count": 16,
   "metadata": {},
   "outputs": [
    {
     "name": "stdout",
     "output_type": "stream",
     "text": [
      "1\n",
      "2\n",
      "3\n",
      "4\n",
      "5\n"
     ]
    }
   ],
   "source": [
    "for a in range(1,6,1):\n",
    "    print(a)"
   ]
  },
  {
   "cell_type": "code",
   "execution_count": 26,
   "metadata": {},
   "outputs": [
    {
     "name": "stdout",
     "output_type": "stream",
     "text": [
      "h\n",
      "o\n",
      "l\n",
      "a\n"
     ]
    }
   ],
   "source": [
    "for a in \"hola\":\n",
    "    print (a)"
   ]
  },
  {
   "cell_type": "markdown",
   "metadata": {},
   "source": [
    "### Listas\n",
    "Crear una lista:"
   ]
  },
  {
   "cell_type": "code",
   "execution_count": 19,
   "metadata": {},
   "outputs": [
    {
     "name": "stdout",
     "output_type": "stream",
     "text": [
      "Ecuador\n",
      "Perú\n",
      "Colombia\n"
     ]
    }
   ],
   "source": [
    "countries = ['Ecuador', 'Perú', 'Colombia']\n",
    "for c in countries:\n",
    "    print(c)\n",
    "#print(countries[0])"
   ]
  },
  {
   "cell_type": "markdown",
   "metadata": {},
   "source": [
    "Agregar un ítem a la lista:"
   ]
  },
  {
   "cell_type": "code",
   "execution_count": 20,
   "metadata": {},
   "outputs": [
    {
     "name": "stdout",
     "output_type": "stream",
     "text": [
      "['Ecuador', 'Perú', 'Colombia', 'Argentina']\n"
     ]
    }
   ],
   "source": [
    "countries.append('Argentina')\n",
    "print(countries)"
   ]
  },
  {
   "cell_type": "markdown",
   "metadata": {},
   "source": [
    "Recorrer una lista:"
   ]
  },
  {
   "cell_type": "code",
   "execution_count": 21,
   "metadata": {},
   "outputs": [
    {
     "name": "stdout",
     "output_type": "stream",
     "text": [
      "Country 1: Ecuador\n",
      "Country 2: Perú\n",
      "Country 3: Colombia\n",
      "Country 4: Argentina\n"
     ]
    }
   ],
   "source": [
    "for c, i in zip(countries, range(1, len(countries)+1, 1)):\n",
    "    print('Country {}: {}'.format(i, c))"
   ]
  },
  {
   "cell_type": "markdown",
   "metadata": {},
   "source": [
    "### Diccionarios"
   ]
  },
  {
   "cell_type": "code",
   "execution_count": 23,
   "metadata": {},
   "outputs": [
    {
     "data": {
      "text/plain": [
       "dict"
      ]
     },
     "execution_count": 23,
     "metadata": {},
     "output_type": "execute_result"
    }
   ],
   "source": [
    "dict1 = {'country': 'Ecuador', 'population': 10, 'capital': 'Quito'}\n",
    "dict2 = {'country': 'Perú', 'population': 15, 'capital': 'Lima'}\n",
    "dict1['capital']\n",
    "type(dict1)"
   ]
  },
  {
   "cell_type": "markdown",
   "metadata": {},
   "source": [
    "### Lista Diccionarios"
   ]
  },
  {
   "cell_type": "code",
   "execution_count": 24,
   "metadata": {},
   "outputs": [
    {
     "data": {
      "text/plain": [
       "[{'country': 'Ecuador', 'population': 10, 'capital': 'Quito'},\n",
       " {'country': 'Perú', 'population': 15, 'capital': 'Lima'},\n",
       " {'country': 'Colombia', 'population': 20}]"
      ]
     },
     "execution_count": 24,
     "metadata": {},
     "output_type": "execute_result"
    }
   ],
   "source": [
    "country_lst = [dict1, dict2]\n",
    "country_lst.append({'country': 'Colombia', 'population': 20})\n",
    "country_lst"
   ]
  },
  {
   "cell_type": "code",
   "execution_count": 29,
   "metadata": {},
   "outputs": [
    {
     "data": {
      "text/plain": [
       "'Ecuador'"
      ]
     },
     "execution_count": 29,
     "metadata": {},
     "output_type": "execute_result"
    }
   ],
   "source": [
    "dict1['country']"
   ]
  },
  {
   "cell_type": "code",
   "execution_count": 30,
   "metadata": {},
   "outputs": [],
   "source": []
  },
  {
   "cell_type": "markdown",
   "metadata": {},
   "source": [
    "# Ejercicios:"
   ]
  },
  {
   "cell_type": "markdown",
   "metadata": {},
   "source": [
    "Considere las siguientes listas: \n",
    "\n",
    "    students = ['Carla', 'Eduardo', 'Evelyn', 'Santiago', 'Carolina']\n",
    "    calif_1 = [9.7, 9.3, 7.7, 8.0, 9.0]\n",
    "    calif_2 = [10, 8.8, 7.7, 8.8, 9.1]\n",
    "    \n",
    "Desarrollar un script para determinar al estudiante con el promedio más alto y más bajo. El script tendrá dos métodos: alto() y bajo(), para determinar el nombre y promedio del estudiante con la mayor y menor calificación, respectivamente. \n",
    "Además, se debe imprimir la lista de estudiantes del curso invocando al método imprimirLista(). \n",
    "\n",
    "Tiempo estimado: 20 mins. "
   ]
  },
  {
   "cell_type": "code",
   "execution_count": 26,
   "metadata": {},
   "outputs": [
    {
     "name": "stdout",
     "output_type": "stream",
     "text": [
      "Lista Estudiantes: \n",
      "Nombre \\ Calif 1 \\ Calif 2\n",
      "Carla 9.7 10\n",
      "Eduardo 9.3 8.8\n",
      "Evelyn 7.7 7.7\n",
      "Santiago 8.0 8.8\n",
      "Carolina 9.0 9.1\n"
     ]
    }
   ],
   "source": [
    "students = ['Carla', 'Eduardo', 'Evelyn', 'Santiago', 'Carolina']\n",
    "calif_1 = [9.7, 9.3, 7.7, 8.0, 9.0]\n",
    "calif_2 = [10, 8.8, 7.7, 8.8, 9.1]\n",
    "def imprimirLista(students, calif1, calif2):\n",
    "    print('Lista Estudiantes: ')\n",
    "    print('Nombre \\ Calif 1 \\ Calif 2')\n",
    "    for  std, calif1, calif2 in zip (students, calif1, calif2):\n",
    "        print('{} {} {}'.format(std, calif1, calif2))\n",
    "imprimirLista(students, calif_1, calif_2)"
   ]
  },
  {
   "cell_type": "code",
   "execution_count": 4,
   "metadata": {},
   "outputs": [
    {
     "ename": "TypeError",
     "evalue": "unsupported operand type(s) for /: 'list' and 'int'",
     "output_type": "error",
     "traceback": [
      "\u001b[1;31m---------------------------------------------------------------------------\u001b[0m",
      "\u001b[1;31mTypeError\u001b[0m                                 Traceback (most recent call last)",
      "\u001b[1;32m<ipython-input-4-e9e6e38e7361>\u001b[0m in \u001b[0;36m<module>\u001b[1;34m\u001b[0m\n\u001b[0;32m      5\u001b[0m     \u001b[0mpromedio\u001b[0m \u001b[1;33m=\u001b[0m \u001b[1;33m(\u001b[0m\u001b[0mcalif1\u001b[0m \u001b[1;33m+\u001b[0m \u001b[0mcalif2\u001b[0m\u001b[1;33m)\u001b[0m\u001b[1;33m/\u001b[0m\u001b[1;36m2\u001b[0m\u001b[1;33m\u001b[0m\u001b[1;33m\u001b[0m\u001b[0m\n\u001b[0;32m      6\u001b[0m     \u001b[0mprint\u001b[0m\u001b[1;33m(\u001b[0m\u001b[0mpromedio\u001b[0m\u001b[1;33m)\u001b[0m\u001b[1;33m\u001b[0m\u001b[1;33m\u001b[0m\u001b[0m\n\u001b[1;32m----> 7\u001b[1;33m \u001b[0mpromedioMayoryMenor\u001b[0m\u001b[1;33m(\u001b[0m\u001b[0mstudents\u001b[0m\u001b[1;33m,\u001b[0m \u001b[0mcalif_1\u001b[0m\u001b[1;33m,\u001b[0m \u001b[0mcalif_2\u001b[0m\u001b[1;33m)\u001b[0m\u001b[1;33m\u001b[0m\u001b[1;33m\u001b[0m\u001b[0m\n\u001b[0m",
      "\u001b[1;32m<ipython-input-4-e9e6e38e7361>\u001b[0m in \u001b[0;36mpromedioMayoryMenor\u001b[1;34m(students, calif1, calif2)\u001b[0m\n\u001b[0;32m      3\u001b[0m \u001b[0mcalif_2\u001b[0m \u001b[1;33m=\u001b[0m \u001b[1;33m[\u001b[0m\u001b[1;36m10\u001b[0m\u001b[1;33m,\u001b[0m \u001b[1;36m8.8\u001b[0m\u001b[1;33m,\u001b[0m \u001b[1;36m7.7\u001b[0m\u001b[1;33m,\u001b[0m \u001b[1;36m8.8\u001b[0m\u001b[1;33m,\u001b[0m \u001b[1;36m9.1\u001b[0m\u001b[1;33m]\u001b[0m\u001b[1;33m\u001b[0m\u001b[1;33m\u001b[0m\u001b[0m\n\u001b[0;32m      4\u001b[0m \u001b[1;32mdef\u001b[0m \u001b[0mpromedioMayoryMenor\u001b[0m \u001b[1;33m(\u001b[0m\u001b[0mstudents\u001b[0m\u001b[1;33m,\u001b[0m \u001b[0mcalif1\u001b[0m\u001b[1;33m,\u001b[0m \u001b[0mcalif2\u001b[0m\u001b[1;33m)\u001b[0m\u001b[1;33m:\u001b[0m\u001b[1;33m\u001b[0m\u001b[1;33m\u001b[0m\u001b[0m\n\u001b[1;32m----> 5\u001b[1;33m     \u001b[0mpromedio\u001b[0m \u001b[1;33m=\u001b[0m \u001b[1;33m(\u001b[0m\u001b[0mcalif1\u001b[0m \u001b[1;33m+\u001b[0m \u001b[0mcalif2\u001b[0m\u001b[1;33m)\u001b[0m\u001b[1;33m/\u001b[0m\u001b[1;36m2\u001b[0m\u001b[1;33m\u001b[0m\u001b[1;33m\u001b[0m\u001b[0m\n\u001b[0m\u001b[0;32m      6\u001b[0m     \u001b[0mprint\u001b[0m\u001b[1;33m(\u001b[0m\u001b[0mpromedio\u001b[0m\u001b[1;33m)\u001b[0m\u001b[1;33m\u001b[0m\u001b[1;33m\u001b[0m\u001b[0m\n\u001b[0;32m      7\u001b[0m \u001b[0mpromedioMayoryMenor\u001b[0m\u001b[1;33m(\u001b[0m\u001b[0mstudents\u001b[0m\u001b[1;33m,\u001b[0m \u001b[0mcalif_1\u001b[0m\u001b[1;33m,\u001b[0m \u001b[0mcalif_2\u001b[0m\u001b[1;33m)\u001b[0m\u001b[1;33m\u001b[0m\u001b[1;33m\u001b[0m\u001b[0m\n",
      "\u001b[1;31mTypeError\u001b[0m: unsupported operand type(s) for /: 'list' and 'int'"
     ]
    }
   ],
   "source": [
    "students = ['Carla', 'Eduardo', 'Evelyn', 'Santiago', 'Carolina']\n",
    "calif_1 = [9.7, 9.3, 7.7, 8.0, 9.0]\n",
    "calif_2 = [10, 8.8, 7.7, 8.8, 9.1]\n",
    "def promedioMayoryMenor (students, calif1, calif2):\n",
    "    promedio = (calif1 + calif2)/2\n",
    "    print(promedio)   \n",
    "promedioMayoryMenor(students, calif_1, calif_2)"
   ]
  },
  {
   "cell_type": "code",
   "execution_count": null,
   "metadata": {},
   "outputs": [],
   "source": []
  }
 ],
 "metadata": {
  "kernelspec": {
   "display_name": "Python 3",
   "language": "python",
   "name": "python3"
  },
  "language_info": {
   "codemirror_mode": {
    "name": "ipython",
    "version": 3
   },
   "file_extension": ".py",
   "mimetype": "text/x-python",
   "name": "python",
   "nbconvert_exporter": "python",
   "pygments_lexer": "ipython3",
   "version": "3.8.8"
  }
 },
 "nbformat": 4,
 "nbformat_minor": 4
}
