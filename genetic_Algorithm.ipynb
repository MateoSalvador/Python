{
 "cells": [
  {
   "cell_type": "markdown",
   "metadata": {},
   "source": [
    "## Algoritmo Genético - Ejemplo"
   ]
  },
  {
   "cell_type": "markdown",
   "metadata": {},
   "source": [
    "Importar librerías"
   ]
  },
  {
   "cell_type": "code",
   "execution_count": 1,
   "metadata": {},
   "outputs": [],
   "source": [
    "import matplotlib.pyplot as plt\n",
    "import numpy as np\n",
    "import time\n",
    "from IPython import display"
   ]
  },
  {
   "cell_type": "markdown",
   "metadata": {},
   "source": [
    "## Recordando las funciones en Python"
   ]
  },
  {
   "cell_type": "code",
   "execution_count": 26,
   "metadata": {},
   "outputs": [],
   "source": [
    "# Función a maximizar. Función de Aptitud (Fitness). \n",
    "# Objetivo encontrar el máximo de esta función\n",
    "\n",
    "def F(x): \n",
    "   # return np.sin(10*x)*x + np.cos(2*x)*x\n",
    "     return np.sin(x*x*x) + np.sin(x*x)"
   ]
  },
  {
   "cell_type": "code",
   "execution_count": 27,
   "metadata": {},
   "outputs": [],
   "source": [
    "# Convierte el cromosoma binario a decimal y lo normaliza a un rango XBound\n",
    "# Un número binario b0,..., bq se convierte a un valor contínuo en el rango [x_l, x_h]\n",
    "# mediante la siguiente fórmula:\n",
    "# x = x_l + ((x_h - x_l)/(2^q -1))*sum(2^k * b_k)\n",
    "\n",
    "def ValueChromosome(population): \n",
    "    return XBound[0] + ((XBound[1]-XBound[0])/float(2**ChromosomeSize-1)) *\\\n",
    "           population.dot(2 ** np.arange(ChromosomeSize)[::-1])\n",
    "    "
   ]
  },
  {
   "cell_type": "code",
   "execution_count": 28,
   "metadata": {},
   "outputs": [],
   "source": [
    "# Selección en base a un método de selección de Roulette-wheel (fitness-proporcional a la selección)\n",
    "\n",
    "def Selection(population, F_values):  \n",
    "    # Convierte los valores de aptitud (fitness) en valores no negativos para la selección \n",
    "    fitness = F_values - np.min(F_values)\n",
    "    # Determinar el orden de selección en función de la probabilidad p\n",
    "    idx = np.random.choice(np.arange(PopulationSize), size=PopulationSize, replace=True,\n",
    "                           p=fitness/fitness.sum())\n",
    "    return population[idx]\n"
   ]
  },
  {
   "cell_type": "code",
   "execution_count": 29,
   "metadata": {},
   "outputs": [],
   "source": [
    "# Operación de crossover de Genes\n",
    "\n",
    "def Crossover(parent, population):  \n",
    "    if np.random.rand() < CrossoverProb:\n",
    "        # seleccionar otro individuo de la población\n",
    "        i_ = np.random.randint(0, PopulationSize, size=1)    \n",
    "        # Elegir puntos de cruce (crossover points)\n",
    "        cross_points = np.random.randint(0, 2, size=ChromosomeSize).astype(np.bool)  \n",
    "        # Reproducción - generación de un hijo\n",
    "        parent[cross_points] = population[i_, cross_points]                          \n",
    "\n",
    "    return parent\n"
   ]
  },
  {
   "cell_type": "code",
   "execution_count": 30,
   "metadata": {},
   "outputs": [],
   "source": [
    "# Mutación de Genes\n",
    "\n",
    "def Mutate(child):\n",
    "    for point in range(ChromosomeSize):\n",
    "        if np.random.rand() < MutationProb:\n",
    "            if child[point] == 0: child[point] = 1 \n",
    "            else: child[point] = 0\n",
    "\n",
    "    return child\n"
   ]
  },
  {
   "cell_type": "code",
   "execution_count": 31,
   "metadata": {},
   "outputs": [],
   "source": [
    "# Inicializar la población y seleccionar el mejor individuo\n",
    "\n",
    "def Init():\n",
    "    # Inicializar la población de cromosomas\n",
    "    population = np.random.randint(2, size=(PopulationSize, ChromosomeSize))\n",
    "    \n",
    "    # El cromosoma con mayor valor de función es el mejor individuo en este momento\n",
    "    BestIndividual =  ValueChromosome(population[np.argmax(F(ValueChromosome(population))), :])\n",
    "    \n",
    "    return population, BestIndividual\n"
   ]
  },
  {
   "cell_type": "code",
   "execution_count": 32,
   "metadata": {},
   "outputs": [],
   "source": [
    "# Active el modo interactivo y trace la función para maximizar\n",
    "\n",
    "def ActivatePlot():\n",
    "    # Activar el modo interactivo (para trazar los puntos en el lazo loop)\n",
    "    plt.ion()      \n",
    "    \n",
    "    # Plotear la función\n",
    "    x = np.arange(0,0.01) # Tome puntos de x en el dominio respectivo, en pasos de 0.01\n",
    "    plt.plot(x, F(x))  \n",
    "    \n",
    "    return(x)\n"
   ]
  },
  {
   "cell_type": "code",
   "execution_count": 33,
   "metadata": {},
   "outputs": [],
   "source": [
    "# Mostrar una solución en el gráfico\n",
    "\n",
    "def PlotSolution(BestX, population):\n",
    "    # Un diagrama de dispersión (Scatterplot ) muestra el valor de 2 conjuntos de datos en 2 dimensiones\n",
    "    # Each dot represents an observation\n",
    "    plt.scatter(BestX, F(BestX), s=200, lw=0, c='red', alpha=0.5)\n",
    "    display.clear_output(wait=True)\n",
    "    display.display(plt.gcf()) \n",
    "    print(\"Most fitted chromosome: \", population[np.argmax(F(ValueChromosome(population))), :],\n",
    "          \"==> point (x,y) = (\",BestX, \",\",\n",
    "          F(BestX),\")\" )\n",
    "#    return"
   ]
  },
  {
   "cell_type": "code",
   "execution_count": 34,
   "metadata": {},
   "outputs": [],
   "source": [
    "# Calculo del cambio relativo promedio durante todas las generaciones\n",
    "def ComputeAvRelChange(AvRelChange,BestX,BestIndividual):\n",
    "    AvRelChange += np.absolute((F(BestX)- F(BestIndividual))/F(BestIndividual))\n",
    "    \n",
    "    return(AvRelChange)\n"
   ]
  },
  {
   "cell_type": "code",
   "execution_count": 35,
   "metadata": {},
   "outputs": [],
   "source": [
    "# Función principal\n",
    "\n",
    "def main():\n",
    "\n",
    "    AvRelChange = 1000.0\n",
    "    count = 0\n",
    "    population, BestIndividual = Init()\n",
    "\n",
    "    # Activar plot para ver soluciones dinámicamente\n",
    "    x=ActivatePlot()\n",
    "    \n",
    "    # Plotear el mejor chromosoma (individuo) de la población inicial\n",
    "    PlotSolution(BestIndividual, population)\n",
    "\n",
    "    # El algoritmo se detiene cuando el número de generaciones alcanza el valor máximo de generaciones\n",
    "    # o cuando el cambio relativo promedio en el valor de la función de aptitud es mínimo (nulo)\n",
    "    # es decir, menos que la Función de tolerancia\n",
    "    for n in range(MaxNumGenerations):\n",
    "\n",
    "        # Evaluar los valores de aptitud de la población\n",
    "        F_values = F(ValueChromosome(population))\n",
    "                     \n",
    "        # Seleccionat a los mejores individuos utilizando la selección proporcional a la aptitud\n",
    "        population = Selection(population, F_values)\n",
    "\n",
    "        # Obtener el mayor valor de función --> mejor solución en la gráfica\n",
    "        BestX = ValueChromosome(population[np.argmax(F_values), :])\n",
    "        \n",
    "        # Plotear el mejor individuo(cromosoma) de esta generación\n",
    "        PlotSolution(BestX, population)\n",
    "            \n",
    "        # Calculo del cambio relativo promedio durante las generaciones\n",
    "        AvRelChange = ComputeAvRelChange(AvRelChange,BestX,BestIndividual)\n",
    "        \n",
    "        # Selección de los mejores individuos de todas las generaciones\n",
    "        if  (F(BestIndividual) <= F(BestX)):\n",
    "            BestIndividual = BestX\n",
    "\n",
    "        # Operadores genéticos de Crossover y mutación\n",
    "        population_copy = population.copy()\n",
    "        for parent in population:\n",
    "            # Crossover\n",
    "            child = Crossover(parent, population_copy)\n",
    "            child = Mutate(child)\n",
    "            # Los padres son reemplazados por sus hijos (desendencia)\n",
    "            parent[:] = child     \n",
    "            \n",
    "        print('\\nAverage Relative Change:',AvRelChange/(n+1))\n",
    "        \n",
    "        time.sleep(0.5)\n",
    "        if AvRelChange/(n+1) < FTolerance: break\n",
    "\n",
    "    plt.ioff()\n",
    "\n",
    "    # Plotear la última solución (respuesta optimizada)\n",
    "    plt.clf()\n",
    "    plt.plot(x, F(x))\n",
    "    plt.scatter(BestIndividual, F(BestIndividual), s=200, lw=0, c='green')\n",
    "\n",
    "    plt.show()\n",
    "    print(\"Final Result in\",n,\"generations. Maximum of the function:\", F(BestIndividual),  \\\n",
    "          \"at x =\",BestIndividual)\n",
    "            "
   ]
  },
  {
   "cell_type": "markdown",
   "metadata": {},
   "source": [
    "### Parametros del algoritmo"
   ]
  },
  {
   "cell_type": "code",
   "execution_count": 52,
   "metadata": {},
   "outputs": [],
   "source": [
    "PopulationSize = 70    # Número de individuos en la población\n",
    "ChromosomeSize =  10    # Número de genes (bits) de un individuo (cromosoma)\n",
    "\n",
    "MaxNumGenerations = 35 # Número máximo de generaciones\n",
    "\n",
    "CrossoverProb = 0.8     # Probabilidad de Crossover \n",
    "MutationProb = 0.03      # Probabilidad de Mutación\n",
    "\n",
    "XBound = [-3, 3]         # x upper y lower bounds [x_l, x_h]\n",
    "\n",
    "FTolerance = 0.01   # Función de tolerancia — El algoritmo se ejecuta hasta que el cambio \n",
    "                    # relativo promedio en el valor de la función de aptitud durante las generaciones \n",
    "                    # es menor que la función de tolerancia\n"
   ]
  },
  {
   "cell_type": "markdown",
   "metadata": {},
   "source": [
    "Ejecución del algoritmo"
   ]
  },
  {
   "cell_type": "code",
   "execution_count": 53,
   "metadata": {},
   "outputs": [
    {
     "data": {
      "image/png": "[encoded data removed]",
      "text/plain": [
       "<Figure size 432x288 with 1 Axes>"
      ]
     },
     "metadata": {},
     "output_type": "display_data"
    },
    {
     "name": "stdout",
     "output_type": "stream",
     "text": [
      "Most fitted chromosome:  [1 0 1 1 0 0 1 0 0 1] ==> point (x,y) = ( 0.7888563049853374 , 1.0543213524217223 )\n",
      "\n",
      "Average Relative Change: 28.891684421965458\n"
     ]
    },
    {
     "data": {
      "image/png": "[encoded data removed]",
      "text/plain": [
       "<Figure size 432x288 with 1 Axes>"
      ]
     },
     "metadata": {
      "needs_background": "light"
     },
     "output_type": "display_data"
    },
    {
     "name": "stdout",
     "output_type": "stream",
     "text": [
      "Final Result in 34 generations. Maximum of the function: 1.9816967687506075 at x = 1.1818181818181817\n",
      "\n",
      "Time needed: 30.2866 seconds\n"
     ]
    }
   ],
   "source": [
    "if __name__ == '__main__':\n",
    "    start_time = time.time()\n",
    "    main()\n",
    "    print(\"\\nTime needed: %.4f seconds\" % (time.time() - start_time))"
   ]
  },
  {
   "cell_type": "code",
   "execution_count": null,
   "metadata": {},
   "outputs": [],
   "source": []
  }
 ],
 "metadata": {
  "kernelspec": {
   "display_name": "Python 3",
   "language": "python",
   "name": "python3"
  },
  "language_info": {
   "codemirror_mode": {
    "name": "ipython",
    "version": 3
   },
   "file_extension": ".py",
   "mimetype": "text/x-python",
   "name": "python",
   "nbconvert_exporter": "python",
   "pygments_lexer": "ipython3",
   "version": "3.8.8"
  }
 },
 "nbformat": 4,
 "nbformat_minor": 2
}
