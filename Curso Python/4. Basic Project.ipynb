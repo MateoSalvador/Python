{
 "cells": [
  {
   "cell_type": "code",
   "execution_count": 1,
   "id": "4de9b991",
   "metadata": {},
   "outputs": [],
   "source": [
    "#importar librerias\n",
    "import pandas as pd\n",
    "import matplotlib.pyplot as plt\n",
    "import seaborn as sns"
   ]
  },
  {
   "cell_type": "code",
   "execution_count": 4,
   "id": "1d5f351c",
   "metadata": {},
   "outputs": [],
   "source": [
    "#En caso d no tener la libreria\n",
    "# pip install seaborn\n",
    "#conda install seaborn\n",
    "# brew install seaborn"
   ]
  },
  {
   "cell_type": "code",
   "execution_count": 5,
   "id": "b20bc41a",
   "metadata": {},
   "outputs": [],
   "source": [
    "filename = \"files/sample.csv\"\n",
    "df = pd.read_csv(filename)"
   ]
  },
  {
   "cell_type": "code",
   "execution_count": 6,
   "id": "e05e39bd",
   "metadata": {},
   "outputs": [
    {
     "name": "stdout",
     "output_type": "stream",
     "text": [
      "<class 'pandas.core.frame.DataFrame'>\n",
      "RangeIndex: 58 entries, 0 to 57\n",
      "Data columns (total 12 columns):\n",
      " #   Column      Non-Null Count  Dtype  \n",
      "---  ------      --------------  -----  \n",
      " 0   Month       58 non-null     int64  \n",
      " 1   Open        58 non-null     float64\n",
      " 2   High        58 non-null     float64\n",
      " 3   Low         58 non-null     float64\n",
      " 4   Close       58 non-null     float64\n",
      " 5   Volume      58 non-null     int64  \n",
      " 6   ExDividend  58 non-null     float64\n",
      " 7   SplitRatio  58 non-null     float64\n",
      " 8   AdjOpen     58 non-null     float64\n",
      " 9   AdjHigh     58 non-null     float64\n",
      " 10  AdjLow      58 non-null     float64\n",
      " 11  AdjClose    58 non-null     int64  \n",
      "dtypes: float64(9), int64(3)\n",
      "memory usage: 5.6 KB\n"
     ]
    }
   ],
   "source": [
    "df.info()"
   ]
  },
  {
   "cell_type": "code",
   "execution_count": 7,
   "id": "b44a34d0",
   "metadata": {},
   "outputs": [
    {
     "data": {
      "text/html": [
       "<div>\n",
       "<style scoped>\n",
       "    .dataframe tbody tr th:only-of-type {\n",
       "        vertical-align: middle;\n",
       "    }\n",
       "\n",
       "    .dataframe tbody tr th {\n",
       "        vertical-align: top;\n",
       "    }\n",
       "\n",
       "    .dataframe thead th {\n",
       "        text-align: right;\n",
       "    }\n",
       "</style>\n",
       "<table border=\"1\" class=\"dataframe\">\n",
       "  <thead>\n",
       "    <tr style=\"text-align: right;\">\n",
       "      <th></th>\n",
       "      <th>Month</th>\n",
       "      <th>Open</th>\n",
       "      <th>High</th>\n",
       "      <th>Low</th>\n",
       "      <th>Close</th>\n",
       "      <th>Volume</th>\n",
       "      <th>ExDividend</th>\n",
       "      <th>SplitRatio</th>\n",
       "      <th>AdjOpen</th>\n",
       "      <th>AdjHigh</th>\n",
       "      <th>AdjLow</th>\n",
       "      <th>AdjClose</th>\n",
       "    </tr>\n",
       "  </thead>\n",
       "  <tbody>\n",
       "    <tr>\n",
       "      <th>0</th>\n",
       "      <td>1</td>\n",
       "      <td>170.59</td>\n",
       "      <td>169.220</td>\n",
       "      <td>169.230</td>\n",
       "      <td>25643711.00</td>\n",
       "      <td>0</td>\n",
       "      <td>34689.96</td>\n",
       "      <td>687.23</td>\n",
       "      <td>202.93</td>\n",
       "      <td>484.30</td>\n",
       "      <td>34205.66</td>\n",
       "      <td>60</td>\n",
       "    </tr>\n",
       "    <tr>\n",
       "      <th>1</th>\n",
       "      <td>2</td>\n",
       "      <td>171.00</td>\n",
       "      <td>171.850</td>\n",
       "      <td>170.480</td>\n",
       "      <td>171.08</td>\n",
       "      <td>15997739</td>\n",
       "      <td>34205.66</td>\n",
       "      <td>687.23</td>\n",
       "      <td>200.10</td>\n",
       "      <td>487.13</td>\n",
       "      <td>33718.53</td>\n",
       "      <td>60</td>\n",
       "    </tr>\n",
       "    <tr>\n",
       "      <th>2</th>\n",
       "      <td>3</td>\n",
       "      <td>170.10</td>\n",
       "      <td>170.780</td>\n",
       "      <td>169.710</td>\n",
       "      <td>170.60</td>\n",
       "      <td>21672062</td>\n",
       "      <td>33718.53</td>\n",
       "      <td>687.23</td>\n",
       "      <td>197.25</td>\n",
       "      <td>489.98</td>\n",
       "      <td>33228.55</td>\n",
       "      <td>60</td>\n",
       "    </tr>\n",
       "    <tr>\n",
       "      <th>3</th>\n",
       "      <td>4</td>\n",
       "      <td>170.80</td>\n",
       "      <td>171.470</td>\n",
       "      <td>169.679</td>\n",
       "      <td>170.57</td>\n",
       "      <td>32968167</td>\n",
       "      <td>33228.55</td>\n",
       "      <td>687.23</td>\n",
       "      <td>194.38</td>\n",
       "      <td>492.85</td>\n",
       "      <td>32735.70</td>\n",
       "      <td>60</td>\n",
       "    </tr>\n",
       "    <tr>\n",
       "      <th>4</th>\n",
       "      <td>5</td>\n",
       "      <td>174.68</td>\n",
       "      <td>175.424</td>\n",
       "      <td>174.500</td>\n",
       "      <td>175.01</td>\n",
       "      <td>16052615</td>\n",
       "      <td>32735.70</td>\n",
       "      <td>687.23</td>\n",
       "      <td>191.50</td>\n",
       "      <td>495.73</td>\n",
       "      <td>32239.97</td>\n",
       "      <td>60</td>\n",
       "    </tr>\n",
       "  </tbody>\n",
       "</table>\n",
       "</div>"
      ],
      "text/plain": [
       "   Month    Open     High      Low        Close    Volume  ExDividend  \\\n",
       "0      1  170.59  169.220  169.230  25643711.00         0    34689.96   \n",
       "1      2  171.00  171.850  170.480       171.08  15997739    34205.66   \n",
       "2      3  170.10  170.780  169.710       170.60  21672062    33718.53   \n",
       "3      4  170.80  171.470  169.679       170.57  32968167    33228.55   \n",
       "4      5  174.68  175.424  174.500       175.01  16052615    32735.70   \n",
       "\n",
       "   SplitRatio  AdjOpen  AdjHigh    AdjLow  AdjClose  \n",
       "0      687.23   202.93   484.30  34205.66        60  \n",
       "1      687.23   200.10   487.13  33718.53        60  \n",
       "2      687.23   197.25   489.98  33228.55        60  \n",
       "3      687.23   194.38   492.85  32735.70        60  \n",
       "4      687.23   191.50   495.73  32239.97        60  "
      ]
     },
     "execution_count": 7,
     "metadata": {},
     "output_type": "execute_result"
    }
   ],
   "source": [
    "df.head()"
   ]
  },
  {
   "cell_type": "code",
   "execution_count": 9,
   "id": "23124a85",
   "metadata": {},
   "outputs": [
    {
     "data": {
      "text/plain": [
       "array([ 1,  2,  3,  4,  5,  6,  7,  8,  9, 10, 11, 12, 13, 14, 15, 16, 17,\n",
       "       18, 19, 20, 21, 22, 23, 24, 25, 26, 27, 28, 29, 30, 31, 32, 33, 34,\n",
       "       35, 37, 38, 39, 40, 41, 42, 43, 44, 45, 46, 47, 48, 49, 50, 51, 52,\n",
       "       53, 54, 55, 56, 57, 58, 59], dtype=int64)"
      ]
     },
     "execution_count": 9,
     "metadata": {},
     "output_type": "execute_result"
    }
   ],
   "source": [
    "dataGraph = df['Month'].values\n",
    "dataGraph"
   ]
  },
  {
   "cell_type": "code",
   "execution_count": 11,
   "id": "247e61d4",
   "metadata": {},
   "outputs": [
    {
     "data": {
      "text/plain": [
       "array([       0, 15997739, 21672062, 32968167, 16052615, 20356826,\n",
       "       23000392, 27078872, 28831533, 37054632, 20219307, 23142242,\n",
       "       18945457, 33092051, 23096872, 24469613, 28224357, 27008428,\n",
       "       32115052, 39590080, 40172368, 40788324, 25468442, 20536313,\n",
       "       14026519, 24997274, 24875471, 15974387, 21665811, 23497326,\n",
       "       28702351, 23588451, 16828025, 25061183, 28636531, 34242566,\n",
       "       58683826, 32710040, 33100847, 35474672, 43923292, 43904150,\n",
       "       16751691, 20126554, 17137731, 21654461, 23612246, 42111326,\n",
       "       16158659, 18816438, 23894630, 16287608, 16045720, 16607693,\n",
       "       15456331, 16200129, 16423749, 21032800], dtype=int64)"
      ]
     },
     "execution_count": 11,
     "metadata": {},
     "output_type": "execute_result"
    }
   ],
   "source": [
    "volumeGraph = df['Volume'].values\n",
    "volumeGraph"
   ]
  },
  {
   "cell_type": "code",
   "execution_count": 23,
   "id": "e36db1af",
   "metadata": {},
   "outputs": [
    {
     "data": {
      "text/plain": [
       "<matplotlib.legend.Legend at 0x1c373d6d400>"
      ]
     },
     "execution_count": 23,
     "metadata": {},
     "output_type": "execute_result"
    },
    {
     "data": {
      "image/png": "[encoded data removed]",
      "text/plain": [
       "<Figure size 576x396 with 1 Axes>"
      ]
     },
     "metadata": {},
     "output_type": "display_data"
    }
   ],
   "source": [
    "plt.style.use('seaborn')\n",
    "plt.plot(dataGraph,volumeGraph, marker='o', markersize='10', label='Graph')\n",
    "plt.xlabel('Month', fontsize=15)\n",
    "plt.ylabel('Volume',fontsize=15)\n",
    "plt.xticks(fontsize=15)\n",
    "plt.yticks(fontsize=15)\n",
    "plt.legend()"
   ]
  },
  {
   "cell_type": "code",
   "execution_count": null,
   "id": "032e6be1",
   "metadata": {},
   "outputs": [],
   "source": []
  }
 ],
 "metadata": {
  "kernelspec": {
   "display_name": "Python 3",
   "language": "python",
   "name": "python3"
  },
  "language_info": {
   "codemirror_mode": {
    "name": "ipython",
    "version": 3
   },
   "file_extension": ".py",
   "mimetype": "text/x-python",
   "name": "python",
   "nbconvert_exporter": "python",
   "pygments_lexer": "ipython3",
   "version": "3.8.8"
  }
 },
 "nbformat": 4,
 "nbformat_minor": 5
}
