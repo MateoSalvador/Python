{
 "cells": [
  {
   "cell_type": "markdown",
   "id": "dcd51a9b-3936-4fc3-9da2-91959d22a9af",
   "metadata": {},
   "source": [
    "# iPython\n",
    "iPython significa Python interarctivo y es un conjunto de herramientas que envuelve el lenguaje de programación \n"
   ]
  },
  {
   "cell_type": "code",
   "execution_count": 2,
   "id": "e4d67436-0a08-4daa-8b9d-25294ea88fec",
   "metadata": {
    "tags": []
   },
   "outputs": [
    {
     "name": "stdout",
     "output_type": "stream",
     "text": [
      "Hola Mundo\n",
      "Almacenes de Datos\n"
     ]
    }
   ],
   "source": [
    "print ('Hola Mundo')\n",
    "print ('Almacenes de Datos')"
   ]
  },
  {
   "cell_type": "code",
   "execution_count": null,
   "id": "acc8eaea-3b58-44b4-9a38-4ad587ec60f2",
   "metadata": {},
   "outputs": [],
   "source": []
  }
 ],
 "metadata": {
  "kernelspec": {
   "display_name": "Python 3",
   "language": "python",
   "name": "python3"
  },
  "language_info": {
   "codemirror_mode": {
    "name": "ipython",
    "version": 3
   },
   "file_extension": ".py",
   "mimetype": "text/x-python",
   "name": "python",
   "nbconvert_exporter": "python",
   "pygments_lexer": "ipython3",
   "version": "3.8.8"
  }
 },
 "nbformat": 4,
 "nbformat_minor": 5
}
