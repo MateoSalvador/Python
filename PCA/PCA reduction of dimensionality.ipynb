{
 "cells": [
  {
   "cell_type": "markdown",
   "id": "c392b759",
   "metadata": {},
   "source": [
    "# PRINCIPAL COMPONENT ANALYSIS"
   ]
  },
  {
   "cell_type": "markdown",
   "id": "758fa21b",
   "metadata": {},
   "source": [
    "### Tarea 1: Importar librerías"
   ]
  },
  {
   "cell_type": "code",
   "execution_count": 1,
   "id": "2faedc7c",
   "metadata": {},
   "outputs": [],
   "source": [
    "%matplotlib inline\n",
    "import pandas as pd\n",
    "import matplotlib.pyplot as plt\n",
    "import numpy as np\n",
    "import seaborn as sns"
   ]
  },
  {
   "cell_type": "code",
   "execution_count": 4,
   "id": "d4397536",
   "metadata": {},
   "outputs": [],
   "source": [
    "#Configurar el estilo del plot\n",
    "plt.style.use(\"ggplot\")\n",
    "plt.rcParams[\"figure.figsize\"] = (12,8)"
   ]
  },
  {
   "cell_type": "markdown",
   "id": "3eb967dc",
   "metadata": {},
   "source": [
    "### Tarea 2: Preprocessing (data loading)"
   ]
  },
  {
   "cell_type": "code",
   "execution_count": 6,
   "id": "8664a697",
   "metadata": {},
   "outputs": [
    {
     "data": {
      "text/html": [
       "<div>\n",
       "<style scoped>\n",
       "    .dataframe tbody tr th:only-of-type {\n",
       "        vertical-align: middle;\n",
       "    }\n",
       "\n",
       "    .dataframe tbody tr th {\n",
       "        vertical-align: top;\n",
       "    }\n",
       "\n",
       "    .dataframe thead th {\n",
       "        text-align: right;\n",
       "    }\n",
       "</style>\n",
       "<table border=\"1\" class=\"dataframe\">\n",
       "  <thead>\n",
       "    <tr style=\"text-align: right;\">\n",
       "      <th></th>\n",
       "      <th>5.1</th>\n",
       "      <th>3.5</th>\n",
       "      <th>1.4</th>\n",
       "      <th>0.2</th>\n",
       "      <th>Iris-setosa</th>\n",
       "    </tr>\n",
       "  </thead>\n",
       "  <tbody>\n",
       "    <tr>\n",
       "      <th>0</th>\n",
       "      <td>4.9</td>\n",
       "      <td>3.0</td>\n",
       "      <td>1.4</td>\n",
       "      <td>0.2</td>\n",
       "      <td>Iris-setosa</td>\n",
       "    </tr>\n",
       "    <tr>\n",
       "      <th>1</th>\n",
       "      <td>4.7</td>\n",
       "      <td>3.2</td>\n",
       "      <td>1.3</td>\n",
       "      <td>0.2</td>\n",
       "      <td>Iris-setosa</td>\n",
       "    </tr>\n",
       "    <tr>\n",
       "      <th>2</th>\n",
       "      <td>4.6</td>\n",
       "      <td>3.1</td>\n",
       "      <td>1.5</td>\n",
       "      <td>0.2</td>\n",
       "      <td>Iris-setosa</td>\n",
       "    </tr>\n",
       "    <tr>\n",
       "      <th>3</th>\n",
       "      <td>5.0</td>\n",
       "      <td>3.6</td>\n",
       "      <td>1.4</td>\n",
       "      <td>0.2</td>\n",
       "      <td>Iris-setosa</td>\n",
       "    </tr>\n",
       "    <tr>\n",
       "      <th>4</th>\n",
       "      <td>5.4</td>\n",
       "      <td>3.9</td>\n",
       "      <td>1.7</td>\n",
       "      <td>0.4</td>\n",
       "      <td>Iris-setosa</td>\n",
       "    </tr>\n",
       "    <tr>\n",
       "      <th>5</th>\n",
       "      <td>4.6</td>\n",
       "      <td>3.4</td>\n",
       "      <td>1.4</td>\n",
       "      <td>0.3</td>\n",
       "      <td>Iris-setosa</td>\n",
       "    </tr>\n",
       "    <tr>\n",
       "      <th>6</th>\n",
       "      <td>5.0</td>\n",
       "      <td>3.4</td>\n",
       "      <td>1.5</td>\n",
       "      <td>0.2</td>\n",
       "      <td>Iris-setosa</td>\n",
       "    </tr>\n",
       "    <tr>\n",
       "      <th>7</th>\n",
       "      <td>4.4</td>\n",
       "      <td>2.9</td>\n",
       "      <td>1.4</td>\n",
       "      <td>0.2</td>\n",
       "      <td>Iris-setosa</td>\n",
       "    </tr>\n",
       "    <tr>\n",
       "      <th>8</th>\n",
       "      <td>4.9</td>\n",
       "      <td>3.1</td>\n",
       "      <td>1.5</td>\n",
       "      <td>0.1</td>\n",
       "      <td>Iris-setosa</td>\n",
       "    </tr>\n",
       "    <tr>\n",
       "      <th>9</th>\n",
       "      <td>5.4</td>\n",
       "      <td>3.7</td>\n",
       "      <td>1.5</td>\n",
       "      <td>0.2</td>\n",
       "      <td>Iris-setosa</td>\n",
       "    </tr>\n",
       "  </tbody>\n",
       "</table>\n",
       "</div>"
      ],
      "text/plain": [
       "   5.1  3.5  1.4  0.2  Iris-setosa\n",
       "0  4.9  3.0  1.4  0.2  Iris-setosa\n",
       "1  4.7  3.2  1.3  0.2  Iris-setosa\n",
       "2  4.6  3.1  1.5  0.2  Iris-setosa\n",
       "3  5.0  3.6  1.4  0.2  Iris-setosa\n",
       "4  5.4  3.9  1.7  0.4  Iris-setosa\n",
       "5  4.6  3.4  1.4  0.3  Iris-setosa\n",
       "6  5.0  3.4  1.5  0.2  Iris-setosa\n",
       "7  4.4  2.9  1.4  0.2  Iris-setosa\n",
       "8  4.9  3.1  1.5  0.1  Iris-setosa\n",
       "9  5.4  3.7  1.5  0.2  Iris-setosa"
      ]
     },
     "execution_count": 6,
     "metadata": {},
     "output_type": "execute_result"
    }
   ],
   "source": [
    "# https://archive.ics.uci.edu/ml/machine-learning-databases/iris/iris.data\n",
    "# PCA ---> reducir la dimensionalidad (lineas transformation method)\n",
    "# Transformar los datos (dataset) y proyectarlos en espacios lineales\n",
    "# PCA direcciones en los proyectos los datos ---> principal components\n",
    "# eigen vectors (maximizar la varianza de los datos)\n",
    "\n",
    "#Summary: Dataset projected onto subspace\n",
    "iris = pd.read_csv('iris.data')\n",
    "iris.head(10)\n",
    "\n",
    "\n"
   ]
  },
  {
   "cell_type": "code",
   "execution_count": 8,
   "id": "97f0cdfd",
   "metadata": {},
   "outputs": [
    {
     "data": {
      "text/html": [
       "<div>\n",
       "<style scoped>\n",
       "    .dataframe tbody tr th:only-of-type {\n",
       "        vertical-align: middle;\n",
       "    }\n",
       "\n",
       "    .dataframe tbody tr th {\n",
       "        vertical-align: top;\n",
       "    }\n",
       "\n",
       "    .dataframe thead th {\n",
       "        text-align: right;\n",
       "    }\n",
       "</style>\n",
       "<table border=\"1\" class=\"dataframe\">\n",
       "  <thead>\n",
       "    <tr style=\"text-align: right;\">\n",
       "      <th></th>\n",
       "      <th>0</th>\n",
       "      <th>1</th>\n",
       "      <th>2</th>\n",
       "      <th>3</th>\n",
       "      <th>4</th>\n",
       "    </tr>\n",
       "  </thead>\n",
       "  <tbody>\n",
       "    <tr>\n",
       "      <th>0</th>\n",
       "      <td>5.1</td>\n",
       "      <td>3.5</td>\n",
       "      <td>1.4</td>\n",
       "      <td>0.2</td>\n",
       "      <td>Iris-setosa</td>\n",
       "    </tr>\n",
       "    <tr>\n",
       "      <th>1</th>\n",
       "      <td>4.9</td>\n",
       "      <td>3.0</td>\n",
       "      <td>1.4</td>\n",
       "      <td>0.2</td>\n",
       "      <td>Iris-setosa</td>\n",
       "    </tr>\n",
       "    <tr>\n",
       "      <th>2</th>\n",
       "      <td>4.7</td>\n",
       "      <td>3.2</td>\n",
       "      <td>1.3</td>\n",
       "      <td>0.2</td>\n",
       "      <td>Iris-setosa</td>\n",
       "    </tr>\n",
       "    <tr>\n",
       "      <th>3</th>\n",
       "      <td>4.6</td>\n",
       "      <td>3.1</td>\n",
       "      <td>1.5</td>\n",
       "      <td>0.2</td>\n",
       "      <td>Iris-setosa</td>\n",
       "    </tr>\n",
       "    <tr>\n",
       "      <th>4</th>\n",
       "      <td>5.0</td>\n",
       "      <td>3.6</td>\n",
       "      <td>1.4</td>\n",
       "      <td>0.2</td>\n",
       "      <td>Iris-setosa</td>\n",
       "    </tr>\n",
       "  </tbody>\n",
       "</table>\n",
       "</div>"
      ],
      "text/plain": [
       "     0    1    2    3            4\n",
       "0  5.1  3.5  1.4  0.2  Iris-setosa\n",
       "1  4.9  3.0  1.4  0.2  Iris-setosa\n",
       "2  4.7  3.2  1.3  0.2  Iris-setosa\n",
       "3  4.6  3.1  1.5  0.2  Iris-setosa\n",
       "4  5.0  3.6  1.4  0.2  Iris-setosa"
      ]
     },
     "execution_count": 8,
     "metadata": {},
     "output_type": "execute_result"
    }
   ],
   "source": [
    "# Eliminar el header del dataset\n",
    "iris = pd.read_csv('iris.data', header=None)\n",
    "iris.head()"
   ]
  },
  {
   "cell_type": "code",
   "execution_count": 9,
   "id": "0443e622",
   "metadata": {},
   "outputs": [
    {
     "data": {
      "text/html": [
       "<div>\n",
       "<style scoped>\n",
       "    .dataframe tbody tr th:only-of-type {\n",
       "        vertical-align: middle;\n",
       "    }\n",
       "\n",
       "    .dataframe tbody tr th {\n",
       "        vertical-align: top;\n",
       "    }\n",
       "\n",
       "    .dataframe thead th {\n",
       "        text-align: right;\n",
       "    }\n",
       "</style>\n",
       "<table border=\"1\" class=\"dataframe\">\n",
       "  <thead>\n",
       "    <tr style=\"text-align: right;\">\n",
       "      <th></th>\n",
       "      <th>sepal_length</th>\n",
       "      <th>sepal_width</th>\n",
       "      <th>petal_length</th>\n",
       "      <th>petal_width</th>\n",
       "      <th>species</th>\n",
       "    </tr>\n",
       "  </thead>\n",
       "  <tbody>\n",
       "    <tr>\n",
       "      <th>0</th>\n",
       "      <td>5.1</td>\n",
       "      <td>3.5</td>\n",
       "      <td>1.4</td>\n",
       "      <td>0.2</td>\n",
       "      <td>Iris-setosa</td>\n",
       "    </tr>\n",
       "    <tr>\n",
       "      <th>1</th>\n",
       "      <td>4.9</td>\n",
       "      <td>3.0</td>\n",
       "      <td>1.4</td>\n",
       "      <td>0.2</td>\n",
       "      <td>Iris-setosa</td>\n",
       "    </tr>\n",
       "    <tr>\n",
       "      <th>2</th>\n",
       "      <td>4.7</td>\n",
       "      <td>3.2</td>\n",
       "      <td>1.3</td>\n",
       "      <td>0.2</td>\n",
       "      <td>Iris-setosa</td>\n",
       "    </tr>\n",
       "    <tr>\n",
       "      <th>3</th>\n",
       "      <td>4.6</td>\n",
       "      <td>3.1</td>\n",
       "      <td>1.5</td>\n",
       "      <td>0.2</td>\n",
       "      <td>Iris-setosa</td>\n",
       "    </tr>\n",
       "    <tr>\n",
       "      <th>4</th>\n",
       "      <td>5.0</td>\n",
       "      <td>3.6</td>\n",
       "      <td>1.4</td>\n",
       "      <td>0.2</td>\n",
       "      <td>Iris-setosa</td>\n",
       "    </tr>\n",
       "  </tbody>\n",
       "</table>\n",
       "</div>"
      ],
      "text/plain": [
       "   sepal_length  sepal_width  petal_length  petal_width      species\n",
       "0           5.1          3.5           1.4          0.2  Iris-setosa\n",
       "1           4.9          3.0           1.4          0.2  Iris-setosa\n",
       "2           4.7          3.2           1.3          0.2  Iris-setosa\n",
       "3           4.6          3.1           1.5          0.2  Iris-setosa\n",
       "4           5.0          3.6           1.4          0.2  Iris-setosa"
      ]
     },
     "execution_count": 9,
     "metadata": {},
     "output_type": "execute_result"
    }
   ],
   "source": [
    "iris.columns = [\"sepal_length\",\"sepal_width\",\"petal_length\",\"petal_width\", \"species\"]\n",
    "iris.dropna(how='all', inplace=True)\n",
    "iris.head()"
   ]
  },
  {
   "cell_type": "code",
   "execution_count": 10,
   "id": "096eead1",
   "metadata": {},
   "outputs": [
    {
     "name": "stdout",
     "output_type": "stream",
     "text": [
      "<class 'pandas.core.frame.DataFrame'>\n",
      "Int64Index: 150 entries, 0 to 149\n",
      "Data columns (total 5 columns):\n",
      " #   Column        Non-Null Count  Dtype  \n",
      "---  ------        --------------  -----  \n",
      " 0   sepal_length  150 non-null    float64\n",
      " 1   sepal_width   150 non-null    float64\n",
      " 2   petal_length  150 non-null    float64\n",
      " 3   petal_width   150 non-null    float64\n",
      " 4   species       150 non-null    object \n",
      "dtypes: float64(4), object(1)\n",
      "memory usage: 7.0+ KB\n"
     ]
    }
   ],
   "source": [
    "iris.info()"
   ]
  },
  {
   "cell_type": "markdown",
   "id": "bca8a474",
   "metadata": {},
   "source": [
    "**Ejercicio:** Verificar Valores duplicados en el dataset "
   ]
  },
  {
   "cell_type": "code",
   "execution_count": 37,
   "id": "d47787af",
   "metadata": {},
   "outputs": [
    {
     "data": {
      "text/plain": [
       "False"
      ]
     },
     "execution_count": 37,
     "metadata": {},
     "output_type": "execute_result"
    }
   ],
   "source": [
    "iris.duplicated().values.any()"
   ]
  },
  {
   "cell_type": "code",
   "execution_count": 22,
   "id": "3cd25968",
   "metadata": {},
   "outputs": [],
   "source": [
    "iris=iris.drop_duplicates()"
   ]
  },
  {
   "cell_type": "markdown",
   "id": "531d9d1a",
   "metadata": {},
   "source": [
    "### Tarea 3: Visualizar la Data (longitud y ancho del cepalo)"
   ]
  },
  {
   "cell_type": "code",
   "execution_count": 25,
   "id": "c0dae2f2",
   "metadata": {},
   "outputs": [
    {
     "data": {
      "image/png": "[encoded data removed]",
      "text/plain": [
       "<Figure size 864x576 with 1 Axes>"
      ]
     },
     "metadata": {},
     "output_type": "display_data"
    }
   ],
   "source": [
    "sns.scatterplot(x=iris.sepal_length, y= iris.sepal_width, hue = iris.species,\n",
    "               style= iris.species);"
   ]
  },
  {
   "cell_type": "markdown",
   "id": "b0d7fc20",
   "metadata": {},
   "source": [
    "### Tarea 4: Análisis de PCA (estandarizar/normalizar la data)"
   ]
  },
  {
   "cell_type": "code",
   "execution_count": 26,
   "id": "e73e95cf",
   "metadata": {},
   "outputs": [],
   "source": [
    "# Separar la matriz de caracteristicas en el dataset (variables o features en el dataset)\n",
    "# Separar X y Y \n",
    "X = iris.iloc[:,0:4].values\n",
    "Y = iris.species.values"
   ]
  },
  {
   "cell_type": "code",
   "execution_count": 27,
   "id": "4057ad86",
   "metadata": {},
   "outputs": [
    {
     "data": {
      "text/plain": [
       "array([[5.1, 3.5, 1.4, 0.2],\n",
       "       [4.9, 3. , 1.4, 0.2],\n",
       "       [4.7, 3.2, 1.3, 0.2],\n",
       "       [4.6, 3.1, 1.5, 0.2],\n",
       "       [5. , 3.6, 1.4, 0.2],\n",
       "       [5.4, 3.9, 1.7, 0.4],\n",
       "       [4.6, 3.4, 1.4, 0.3],\n",
       "       [5. , 3.4, 1.5, 0.2],\n",
       "       [4.4, 2.9, 1.4, 0.2],\n",
       "       [4.9, 3.1, 1.5, 0.1],\n",
       "       [5.4, 3.7, 1.5, 0.2],\n",
       "       [4.8, 3.4, 1.6, 0.2],\n",
       "       [4.8, 3. , 1.4, 0.1],\n",
       "       [4.3, 3. , 1.1, 0.1],\n",
       "       [5.8, 4. , 1.2, 0.2],\n",
       "       [5.7, 4.4, 1.5, 0.4],\n",
       "       [5.4, 3.9, 1.3, 0.4],\n",
       "       [5.1, 3.5, 1.4, 0.3],\n",
       "       [5.7, 3.8, 1.7, 0.3],\n",
       "       [5.1, 3.8, 1.5, 0.3],\n",
       "       [5.4, 3.4, 1.7, 0.2],\n",
       "       [5.1, 3.7, 1.5, 0.4],\n",
       "       [4.6, 3.6, 1. , 0.2],\n",
       "       [5.1, 3.3, 1.7, 0.5],\n",
       "       [4.8, 3.4, 1.9, 0.2],\n",
       "       [5. , 3. , 1.6, 0.2],\n",
       "       [5. , 3.4, 1.6, 0.4],\n",
       "       [5.2, 3.5, 1.5, 0.2],\n",
       "       [5.2, 3.4, 1.4, 0.2],\n",
       "       [4.7, 3.2, 1.6, 0.2],\n",
       "       [4.8, 3.1, 1.6, 0.2],\n",
       "       [5.4, 3.4, 1.5, 0.4],\n",
       "       [5.2, 4.1, 1.5, 0.1],\n",
       "       [5.5, 4.2, 1.4, 0.2],\n",
       "       [5. , 3.2, 1.2, 0.2],\n",
       "       [5.5, 3.5, 1.3, 0.2],\n",
       "       [4.4, 3. , 1.3, 0.2],\n",
       "       [5.1, 3.4, 1.5, 0.2],\n",
       "       [5. , 3.5, 1.3, 0.3],\n",
       "       [4.5, 2.3, 1.3, 0.3],\n",
       "       [4.4, 3.2, 1.3, 0.2],\n",
       "       [5. , 3.5, 1.6, 0.6],\n",
       "       [5.1, 3.8, 1.9, 0.4],\n",
       "       [4.8, 3. , 1.4, 0.3],\n",
       "       [5.1, 3.8, 1.6, 0.2],\n",
       "       [4.6, 3.2, 1.4, 0.2],\n",
       "       [5.3, 3.7, 1.5, 0.2],\n",
       "       [5. , 3.3, 1.4, 0.2],\n",
       "       [7. , 3.2, 4.7, 1.4],\n",
       "       [6.4, 3.2, 4.5, 1.5],\n",
       "       [6.9, 3.1, 4.9, 1.5],\n",
       "       [5.5, 2.3, 4. , 1.3],\n",
       "       [6.5, 2.8, 4.6, 1.5],\n",
       "       [5.7, 2.8, 4.5, 1.3],\n",
       "       [6.3, 3.3, 4.7, 1.6],\n",
       "       [4.9, 2.4, 3.3, 1. ],\n",
       "       [6.6, 2.9, 4.6, 1.3],\n",
       "       [5.2, 2.7, 3.9, 1.4],\n",
       "       [5. , 2. , 3.5, 1. ],\n",
       "       [5.9, 3. , 4.2, 1.5],\n",
       "       [6. , 2.2, 4. , 1. ],\n",
       "       [6.1, 2.9, 4.7, 1.4],\n",
       "       [5.6, 2.9, 3.6, 1.3],\n",
       "       [6.7, 3.1, 4.4, 1.4],\n",
       "       [5.6, 3. , 4.5, 1.5],\n",
       "       [5.8, 2.7, 4.1, 1. ],\n",
       "       [6.2, 2.2, 4.5, 1.5],\n",
       "       [5.6, 2.5, 3.9, 1.1],\n",
       "       [5.9, 3.2, 4.8, 1.8],\n",
       "       [6.1, 2.8, 4. , 1.3],\n",
       "       [6.3, 2.5, 4.9, 1.5],\n",
       "       [6.1, 2.8, 4.7, 1.2],\n",
       "       [6.4, 2.9, 4.3, 1.3],\n",
       "       [6.6, 3. , 4.4, 1.4],\n",
       "       [6.8, 2.8, 4.8, 1.4],\n",
       "       [6.7, 3. , 5. , 1.7],\n",
       "       [6. , 2.9, 4.5, 1.5],\n",
       "       [5.7, 2.6, 3.5, 1. ],\n",
       "       [5.5, 2.4, 3.8, 1.1],\n",
       "       [5.5, 2.4, 3.7, 1. ],\n",
       "       [5.8, 2.7, 3.9, 1.2],\n",
       "       [6. , 2.7, 5.1, 1.6],\n",
       "       [5.4, 3. , 4.5, 1.5],\n",
       "       [6. , 3.4, 4.5, 1.6],\n",
       "       [6.7, 3.1, 4.7, 1.5],\n",
       "       [6.3, 2.3, 4.4, 1.3],\n",
       "       [5.6, 3. , 4.1, 1.3],\n",
       "       [5.5, 2.5, 4. , 1.3],\n",
       "       [5.5, 2.6, 4.4, 1.2],\n",
       "       [6.1, 3. , 4.6, 1.4],\n",
       "       [5.8, 2.6, 4. , 1.2],\n",
       "       [5. , 2.3, 3.3, 1. ],\n",
       "       [5.6, 2.7, 4.2, 1.3],\n",
       "       [5.7, 3. , 4.2, 1.2],\n",
       "       [5.7, 2.9, 4.2, 1.3],\n",
       "       [6.2, 2.9, 4.3, 1.3],\n",
       "       [5.1, 2.5, 3. , 1.1],\n",
       "       [5.7, 2.8, 4.1, 1.3],\n",
       "       [6.3, 3.3, 6. , 2.5],\n",
       "       [5.8, 2.7, 5.1, 1.9],\n",
       "       [7.1, 3. , 5.9, 2.1],\n",
       "       [6.3, 2.9, 5.6, 1.8],\n",
       "       [6.5, 3. , 5.8, 2.2],\n",
       "       [7.6, 3. , 6.6, 2.1],\n",
       "       [4.9, 2.5, 4.5, 1.7],\n",
       "       [7.3, 2.9, 6.3, 1.8],\n",
       "       [6.7, 2.5, 5.8, 1.8],\n",
       "       [7.2, 3.6, 6.1, 2.5],\n",
       "       [6.5, 3.2, 5.1, 2. ],\n",
       "       [6.4, 2.7, 5.3, 1.9],\n",
       "       [6.8, 3. , 5.5, 2.1],\n",
       "       [5.7, 2.5, 5. , 2. ],\n",
       "       [5.8, 2.8, 5.1, 2.4],\n",
       "       [6.4, 3.2, 5.3, 2.3],\n",
       "       [6.5, 3. , 5.5, 1.8],\n",
       "       [7.7, 3.8, 6.7, 2.2],\n",
       "       [7.7, 2.6, 6.9, 2.3],\n",
       "       [6. , 2.2, 5. , 1.5],\n",
       "       [6.9, 3.2, 5.7, 2.3],\n",
       "       [5.6, 2.8, 4.9, 2. ],\n",
       "       [7.7, 2.8, 6.7, 2. ],\n",
       "       [6.3, 2.7, 4.9, 1.8],\n",
       "       [6.7, 3.3, 5.7, 2.1],\n",
       "       [7.2, 3.2, 6. , 1.8],\n",
       "       [6.2, 2.8, 4.8, 1.8],\n",
       "       [6.1, 3. , 4.9, 1.8],\n",
       "       [6.4, 2.8, 5.6, 2.1],\n",
       "       [7.2, 3. , 5.8, 1.6],\n",
       "       [7.4, 2.8, 6.1, 1.9],\n",
       "       [7.9, 3.8, 6.4, 2. ],\n",
       "       [6.4, 2.8, 5.6, 2.2],\n",
       "       [6.3, 2.8, 5.1, 1.5],\n",
       "       [6.1, 2.6, 5.6, 1.4],\n",
       "       [7.7, 3. , 6.1, 2.3],\n",
       "       [6.3, 3.4, 5.6, 2.4],\n",
       "       [6.4, 3.1, 5.5, 1.8],\n",
       "       [6. , 3. , 4.8, 1.8],\n",
       "       [6.9, 3.1, 5.4, 2.1],\n",
       "       [6.7, 3.1, 5.6, 2.4],\n",
       "       [6.9, 3.1, 5.1, 2.3],\n",
       "       [6.8, 3.2, 5.9, 2.3],\n",
       "       [6.7, 3.3, 5.7, 2.5],\n",
       "       [6.7, 3. , 5.2, 2.3],\n",
       "       [6.3, 2.5, 5. , 1.9],\n",
       "       [6.5, 3. , 5.2, 2. ],\n",
       "       [6.2, 3.4, 5.4, 2.3],\n",
       "       [5.9, 3. , 5.1, 1.8]])"
      ]
     },
     "execution_count": 27,
     "metadata": {},
     "output_type": "execute_result"
    }
   ],
   "source": [
    "X"
   ]
  },
  {
   "cell_type": "code",
   "execution_count": 28,
   "id": "312296e9",
   "metadata": {},
   "outputs": [
    {
     "data": {
      "text/plain": [
       "array(['Iris-setosa', 'Iris-setosa', 'Iris-setosa', 'Iris-setosa',\n",
       "       'Iris-setosa', 'Iris-setosa', 'Iris-setosa', 'Iris-setosa',\n",
       "       'Iris-setosa', 'Iris-setosa', 'Iris-setosa', 'Iris-setosa',\n",
       "       'Iris-setosa', 'Iris-setosa', 'Iris-setosa', 'Iris-setosa',\n",
       "       'Iris-setosa', 'Iris-setosa', 'Iris-setosa', 'Iris-setosa',\n",
       "       'Iris-setosa', 'Iris-setosa', 'Iris-setosa', 'Iris-setosa',\n",
       "       'Iris-setosa', 'Iris-setosa', 'Iris-setosa', 'Iris-setosa',\n",
       "       'Iris-setosa', 'Iris-setosa', 'Iris-setosa', 'Iris-setosa',\n",
       "       'Iris-setosa', 'Iris-setosa', 'Iris-setosa', 'Iris-setosa',\n",
       "       'Iris-setosa', 'Iris-setosa', 'Iris-setosa', 'Iris-setosa',\n",
       "       'Iris-setosa', 'Iris-setosa', 'Iris-setosa', 'Iris-setosa',\n",
       "       'Iris-setosa', 'Iris-setosa', 'Iris-setosa', 'Iris-setosa',\n",
       "       'Iris-versicolor', 'Iris-versicolor', 'Iris-versicolor',\n",
       "       'Iris-versicolor', 'Iris-versicolor', 'Iris-versicolor',\n",
       "       'Iris-versicolor', 'Iris-versicolor', 'Iris-versicolor',\n",
       "       'Iris-versicolor', 'Iris-versicolor', 'Iris-versicolor',\n",
       "       'Iris-versicolor', 'Iris-versicolor', 'Iris-versicolor',\n",
       "       'Iris-versicolor', 'Iris-versicolor', 'Iris-versicolor',\n",
       "       'Iris-versicolor', 'Iris-versicolor', 'Iris-versicolor',\n",
       "       'Iris-versicolor', 'Iris-versicolor', 'Iris-versicolor',\n",
       "       'Iris-versicolor', 'Iris-versicolor', 'Iris-versicolor',\n",
       "       'Iris-versicolor', 'Iris-versicolor', 'Iris-versicolor',\n",
       "       'Iris-versicolor', 'Iris-versicolor', 'Iris-versicolor',\n",
       "       'Iris-versicolor', 'Iris-versicolor', 'Iris-versicolor',\n",
       "       'Iris-versicolor', 'Iris-versicolor', 'Iris-versicolor',\n",
       "       'Iris-versicolor', 'Iris-versicolor', 'Iris-versicolor',\n",
       "       'Iris-versicolor', 'Iris-versicolor', 'Iris-versicolor',\n",
       "       'Iris-versicolor', 'Iris-versicolor', 'Iris-versicolor',\n",
       "       'Iris-versicolor', 'Iris-versicolor', 'Iris-virginica',\n",
       "       'Iris-virginica', 'Iris-virginica', 'Iris-virginica',\n",
       "       'Iris-virginica', 'Iris-virginica', 'Iris-virginica',\n",
       "       'Iris-virginica', 'Iris-virginica', 'Iris-virginica',\n",
       "       'Iris-virginica', 'Iris-virginica', 'Iris-virginica',\n",
       "       'Iris-virginica', 'Iris-virginica', 'Iris-virginica',\n",
       "       'Iris-virginica', 'Iris-virginica', 'Iris-virginica',\n",
       "       'Iris-virginica', 'Iris-virginica', 'Iris-virginica',\n",
       "       'Iris-virginica', 'Iris-virginica', 'Iris-virginica',\n",
       "       'Iris-virginica', 'Iris-virginica', 'Iris-virginica',\n",
       "       'Iris-virginica', 'Iris-virginica', 'Iris-virginica',\n",
       "       'Iris-virginica', 'Iris-virginica', 'Iris-virginica',\n",
       "       'Iris-virginica', 'Iris-virginica', 'Iris-virginica',\n",
       "       'Iris-virginica', 'Iris-virginica', 'Iris-virginica',\n",
       "       'Iris-virginica', 'Iris-virginica', 'Iris-virginica',\n",
       "       'Iris-virginica', 'Iris-virginica', 'Iris-virginica',\n",
       "       'Iris-virginica', 'Iris-virginica', 'Iris-virginica'], dtype=object)"
      ]
     },
     "execution_count": 28,
     "metadata": {},
     "output_type": "execute_result"
    }
   ],
   "source": [
    "Y"
   ]
  },
  {
   "cell_type": "code",
   "execution_count": 29,
   "id": "0710dd38",
   "metadata": {},
   "outputs": [
    {
     "data": {
      "text/plain": [
       "array([[-0.91550949,  1.0199714 , -1.35773692, -1.33570001],\n",
       "       [-1.15755966, -0.12808217, -1.35773692, -1.33570001],\n",
       "       [-1.39960983,  0.33113926, -1.41477817, -1.33570001],\n",
       "       [-1.52063491,  0.10152855, -1.30069567, -1.33570001],\n",
       "       [-1.03653457,  1.24958212, -1.35773692, -1.33570001],\n",
       "       [-0.55243423,  1.93841426, -1.18661318, -1.07090176],\n",
       "       [-1.52063491,  0.79036069, -1.35773692, -1.20330089],\n",
       "       [-1.03653457,  0.79036069, -1.30069567, -1.33570001],\n",
       "       [-1.76268509, -0.35769288, -1.35773692, -1.33570001],\n",
       "       [-1.15755966,  0.10152855, -1.30069567, -1.46809914],\n",
       "       [-0.55243423,  1.47919283, -1.30069567, -1.33570001],\n",
       "       [-1.27858474,  0.79036069, -1.24365442, -1.33570001],\n",
       "       [-1.27858474, -0.12808217, -1.35773692, -1.46809914],\n",
       "       [-1.88371017, -0.12808217, -1.52886066, -1.46809914],\n",
       "       [-0.06833389,  2.16802498, -1.47181942, -1.33570001],\n",
       "       [-0.18935898,  3.08646783, -1.30069567, -1.07090176],\n",
       "       [-0.55243423,  1.93841426, -1.41477817, -1.07090176],\n",
       "       [-0.91550949,  1.0199714 , -1.35773692, -1.20330089],\n",
       "       [-0.18935898,  1.70880355, -1.18661318, -1.20330089],\n",
       "       [-0.91550949,  1.70880355, -1.30069567, -1.20330089],\n",
       "       [-0.55243423,  0.79036069, -1.18661318, -1.33570001],\n",
       "       [-0.91550949,  1.47919283, -1.30069567, -1.07090176],\n",
       "       [-1.52063491,  1.24958212, -1.58590191, -1.33570001],\n",
       "       [-0.91550949,  0.56074998, -1.18661318, -0.93850264],\n",
       "       [-1.27858474,  0.79036069, -1.07253068, -1.33570001],\n",
       "       [-1.03653457, -0.12808217, -1.24365442, -1.33570001],\n",
       "       [-1.03653457,  0.79036069, -1.24365442, -1.07090176],\n",
       "       [-0.7944844 ,  1.0199714 , -1.30069567, -1.33570001],\n",
       "       [-0.7944844 ,  0.79036069, -1.35773692, -1.33570001],\n",
       "       [-1.39960983,  0.33113926, -1.24365442, -1.33570001],\n",
       "       [-1.27858474,  0.10152855, -1.24365442, -1.33570001],\n",
       "       [-0.55243423,  0.79036069, -1.30069567, -1.07090176],\n",
       "       [-0.7944844 ,  2.39763569, -1.30069567, -1.46809914],\n",
       "       [-0.43140915,  2.6272464 , -1.35773692, -1.33570001],\n",
       "       [-1.03653457,  0.33113926, -1.47181942, -1.33570001],\n",
       "       [-0.43140915,  1.0199714 , -1.41477817, -1.33570001],\n",
       "       [-1.76268509, -0.12808217, -1.41477817, -1.33570001],\n",
       "       [-0.91550949,  0.79036069, -1.30069567, -1.33570001],\n",
       "       [-1.03653457,  1.0199714 , -1.41477817, -1.20330089],\n",
       "       [-1.64166   , -1.73535717, -1.41477817, -1.20330089],\n",
       "       [-1.76268509,  0.33113926, -1.41477817, -1.33570001],\n",
       "       [-1.03653457,  1.0199714 , -1.24365442, -0.80610351],\n",
       "       [-0.91550949,  1.70880355, -1.07253068, -1.07090176],\n",
       "       [-1.27858474, -0.12808217, -1.35773692, -1.20330089],\n",
       "       [-0.91550949,  1.70880355, -1.24365442, -1.33570001],\n",
       "       [-1.52063491,  0.33113926, -1.35773692, -1.33570001],\n",
       "       [-0.67345932,  1.47919283, -1.30069567, -1.33570001],\n",
       "       [-1.03653457,  0.56074998, -1.35773692, -1.33570001],\n",
       "       [ 1.38396713,  0.33113926,  0.52462427,  0.25308948],\n",
       "       [ 0.65781662,  0.33113926,  0.41054177,  0.38548861],\n",
       "       [ 1.26294205,  0.10152855,  0.63870676,  0.38548861],\n",
       "       [-0.43140915, -1.73535717,  0.12533553,  0.12069036],\n",
       "       [ 0.77884171, -0.5873036 ,  0.46758302,  0.38548861],\n",
       "       [-0.18935898, -0.5873036 ,  0.41054177,  0.12069036],\n",
       "       [ 0.53679153,  0.56074998,  0.52462427,  0.51788773],\n",
       "       [-1.15755966, -1.50574645, -0.27395321, -0.27650702],\n",
       "       [ 0.89986679, -0.35769288,  0.46758302,  0.12069036],\n",
       "       [-0.7944844 , -0.81691431,  0.06829428,  0.25308948],\n",
       "       [-1.03653457, -2.42418931, -0.15987071, -0.27650702],\n",
       "       [ 0.05269119, -0.12808217,  0.23941803,  0.38548861],\n",
       "       [ 0.17371628, -1.96496788,  0.12533553, -0.27650702],\n",
       "       [ 0.29474136, -0.35769288,  0.52462427,  0.25308948],\n",
       "       [-0.31038406, -0.35769288, -0.10282946,  0.12069036],\n",
       "       [ 1.02089188,  0.10152855,  0.35350052,  0.25308948],\n",
       "       [-0.31038406, -0.12808217,  0.41054177,  0.38548861],\n",
       "       [-0.06833389, -0.81691431,  0.18237678, -0.27650702],\n",
       "       [ 0.41576645, -1.96496788,  0.41054177,  0.38548861],\n",
       "       [-0.31038406, -1.27613574,  0.06829428, -0.14410789],\n",
       "       [ 0.05269119,  0.33113926,  0.58166552,  0.78268598],\n",
       "       [ 0.29474136, -0.5873036 ,  0.12533553,  0.12069036],\n",
       "       [ 0.53679153, -1.27613574,  0.63870676,  0.38548861],\n",
       "       [ 0.29474136, -0.5873036 ,  0.52462427, -0.01170877],\n",
       "       [ 0.65781662, -0.35769288,  0.29645928,  0.12069036],\n",
       "       [ 0.89986679, -0.12808217,  0.35350052,  0.25308948],\n",
       "       [ 1.14191696, -0.5873036 ,  0.58166552,  0.25308948],\n",
       "       [ 1.02089188, -0.12808217,  0.69574801,  0.65028686],\n",
       "       [ 0.17371628, -0.35769288,  0.41054177,  0.38548861],\n",
       "       [-0.18935898, -1.04652502, -0.15987071, -0.27650702],\n",
       "       [-0.43140915, -1.50574645,  0.01125304, -0.14410789],\n",
       "       [-0.43140915, -1.50574645, -0.04578821, -0.27650702],\n",
       "       [-0.06833389, -0.81691431,  0.06829428, -0.01170877],\n",
       "       [ 0.17371628, -0.81691431,  0.75278926,  0.51788773],\n",
       "       [-0.55243423, -0.12808217,  0.41054177,  0.38548861],\n",
       "       [ 0.17371628,  0.79036069,  0.41054177,  0.51788773],\n",
       "       [ 1.02089188,  0.10152855,  0.52462427,  0.38548861],\n",
       "       [ 0.53679153, -1.73535717,  0.35350052,  0.12069036],\n",
       "       [-0.31038406, -0.12808217,  0.18237678,  0.12069036],\n",
       "       [-0.43140915, -1.27613574,  0.12533553,  0.12069036],\n",
       "       [-0.43140915, -1.04652502,  0.35350052, -0.01170877],\n",
       "       [ 0.29474136, -0.12808217,  0.46758302,  0.25308948],\n",
       "       [-0.06833389, -1.04652502,  0.12533553, -0.01170877],\n",
       "       [-1.03653457, -1.73535717, -0.27395321, -0.27650702],\n",
       "       [-0.31038406, -0.81691431,  0.23941803,  0.12069036],\n",
       "       [-0.18935898, -0.12808217,  0.23941803, -0.01170877],\n",
       "       [-0.18935898, -0.35769288,  0.23941803,  0.12069036],\n",
       "       [ 0.41576645, -0.35769288,  0.29645928,  0.12069036],\n",
       "       [-0.91550949, -1.27613574, -0.44507695, -0.14410789],\n",
       "       [-0.18935898, -0.5873036 ,  0.18237678,  0.12069036],\n",
       "       [ 0.53679153,  0.56074998,  1.26616049,  1.70947985],\n",
       "       [-0.06833389, -0.81691431,  0.75278926,  0.91508511],\n",
       "       [ 1.50499222, -0.12808217,  1.20911925,  1.17988336],\n",
       "       [ 0.53679153, -0.35769288,  1.0379955 ,  0.78268598],\n",
       "       [ 0.77884171, -0.12808217,  1.152078  ,  1.31228248],\n",
       "       [ 2.11011764, -0.12808217,  1.60840798,  1.17988336],\n",
       "       [-1.15755966, -1.27613574,  0.41054177,  0.65028686],\n",
       "       [ 1.74704239, -0.35769288,  1.43728424,  0.78268598],\n",
       "       [ 1.02089188, -1.27613574,  1.152078  ,  0.78268598],\n",
       "       [ 1.6260173 ,  1.24958212,  1.32320174,  1.70947985],\n",
       "       [ 0.77884171,  0.33113926,  0.75278926,  1.04748423],\n",
       "       [ 0.65781662, -0.81691431,  0.86687176,  0.91508511],\n",
       "       [ 1.14191696, -0.12808217,  0.98095425,  1.17988336],\n",
       "       [-0.18935898, -1.27613574,  0.69574801,  1.04748423],\n",
       "       [-0.06833389, -0.5873036 ,  0.75278926,  1.57708073],\n",
       "       [ 0.65781662,  0.33113926,  0.86687176,  1.4446816 ],\n",
       "       [ 0.77884171, -0.12808217,  0.98095425,  0.78268598],\n",
       "       [ 2.23114273,  1.70880355,  1.66544923,  1.31228248],\n",
       "       [ 2.23114273, -1.04652502,  1.77953173,  1.4446816 ],\n",
       "       [ 0.17371628, -1.96496788,  0.69574801,  0.38548861],\n",
       "       [ 1.26294205,  0.33113926,  1.09503675,  1.4446816 ],\n",
       "       [-0.31038406, -0.5873036 ,  0.63870676,  1.04748423],\n",
       "       [ 2.23114273, -0.5873036 ,  1.66544923,  1.04748423],\n",
       "       [ 0.53679153, -0.81691431,  0.63870676,  0.78268598],\n",
       "       [ 1.02089188,  0.56074998,  1.09503675,  1.17988336],\n",
       "       [ 1.6260173 ,  0.33113926,  1.26616049,  0.78268598],\n",
       "       [ 0.41576645, -0.5873036 ,  0.58166552,  0.78268598],\n",
       "       [ 0.29474136, -0.12808217,  0.63870676,  0.78268598],\n",
       "       [ 0.65781662, -0.5873036 ,  1.0379955 ,  1.17988336],\n",
       "       [ 1.6260173 , -0.12808217,  1.152078  ,  0.51788773],\n",
       "       [ 1.86806747, -0.5873036 ,  1.32320174,  0.91508511],\n",
       "       [ 2.4731929 ,  1.70880355,  1.49432549,  1.04748423],\n",
       "       [ 0.65781662, -0.5873036 ,  1.0379955 ,  1.31228248],\n",
       "       [ 0.53679153, -0.5873036 ,  0.75278926,  0.38548861],\n",
       "       [ 0.29474136, -1.04652502,  1.0379955 ,  0.25308948],\n",
       "       [ 2.23114273, -0.12808217,  1.32320174,  1.4446816 ],\n",
       "       [ 0.53679153,  0.79036069,  1.0379955 ,  1.57708073],\n",
       "       [ 0.65781662,  0.10152855,  0.98095425,  0.78268598],\n",
       "       [ 0.17371628, -0.12808217,  0.58166552,  0.78268598],\n",
       "       [ 1.26294205,  0.10152855,  0.92391301,  1.17988336],\n",
       "       [ 1.02089188,  0.10152855,  1.0379955 ,  1.57708073],\n",
       "       [ 1.26294205,  0.10152855,  0.75278926,  1.4446816 ],\n",
       "       [ 1.14191696,  0.33113926,  1.20911925,  1.4446816 ],\n",
       "       [ 1.02089188,  0.56074998,  1.09503675,  1.70947985],\n",
       "       [ 1.02089188, -0.12808217,  0.80983051,  1.4446816 ],\n",
       "       [ 0.53679153, -1.27613574,  0.69574801,  0.91508511],\n",
       "       [ 0.77884171, -0.12808217,  0.80983051,  1.04748423],\n",
       "       [ 0.41576645,  0.79036069,  0.92391301,  1.4446816 ],\n",
       "       [ 0.05269119, -0.12808217,  0.75278926,  0.78268598]])"
      ]
     },
     "execution_count": 29,
     "metadata": {},
     "output_type": "execute_result"
    }
   ],
   "source": [
    "# Normalización standard scaler\n",
    "from sklearn.preprocessing import StandardScaler\n",
    "\n",
    "# feature ---> media cero, desviación estandar unidad\n",
    "# features tengan un peso normalizado para la proyección\n",
    "\n",
    "X = StandardScaler().fit_transform(X)\n",
    "X;"
   ]
  },
  {
   "cell_type": "markdown",
   "id": "b922d8a5",
   "metadata": {},
   "source": [
    "El cálculo de los eigen vector y values\n",
    "- Eigen Decomposition\n",
    "- Singular Value Decomposition (SVD)"
   ]
  },
  {
   "cell_type": "markdown",
   "id": "72cd86d5",
   "metadata": {},
   "source": [
    "### Tarea 5: Cálculo de los Eigenvectors y EigenValues"
   ]
  },
  {
   "cell_type": "code",
   "execution_count": 30,
   "id": "ace213ee",
   "metadata": {},
   "outputs": [],
   "source": [
    "#Eigen Decomposition"
   ]
  },
  {
   "cell_type": "markdown",
   "id": "1fd8d29d",
   "metadata": {},
   "source": [
    "Covariance: $\\sigma_{jk} = \\frac{1}{n-1}\\sum_{i=1}^{N}(x_{ij}-\\bar{x_j})(x_{ik}-\\bar{x_k})$\n",
    "\n",
    "Coviance matrix: $Σ = \\frac{1}{n-1}((X-\\bar{x})^T(X-\\bar{x}))$"
   ]
  },
  {
   "cell_type": "code",
   "execution_count": 33,
   "id": "7933c5c0",
   "metadata": {},
   "outputs": [
    {
     "name": "stdout",
     "output_type": "stream",
     "text": [
      "Covariance matrix: \n",
      " [[ 1.00684932 -0.1100696   0.8772724   0.82265459]\n",
      " [-0.1100696   1.00684932 -0.42394135 -0.35881709]\n",
      " [ 0.8772724  -0.42394135  1.00684932  0.96847099]\n",
      " [ 0.82265459 -0.35881709  0.96847099  1.00684932]]\n"
     ]
    }
   ],
   "source": [
    "# Cálculo de la covarianza \n",
    "covariance_matrix = np.cov(X.T)\n",
    "print(\"Covariance matrix: \\n\",covariance_matrix)\n",
    "# Symetric Positive Semi-defined Matrix\n",
    "# Cada Columna es independiente a cada otra (ortonormal)"
   ]
  },
  {
   "cell_type": "code",
   "execution_count": 35,
   "id": "a30b1770",
   "metadata": {},
   "outputs": [
    {
     "name": "stdout",
     "output_type": "stream",
     "text": [
      "Eigen vectors: \n",
      " [[ 0.52230226 -0.37279119 -0.72000204  0.26424259]\n",
      " [-0.26361895 -0.92535433  0.2418424  -0.1254459 ]\n",
      " [ 0.58130506 -0.02079959  0.13827615 -0.80158063]\n",
      " [ 0.56549963 -0.06567705  0.63560131  0.52144767]] \n",
      "\n",
      "Eigen values: \n",
      " [2.92947202 0.92751016 0.14912023 0.02129485]\n"
     ]
    }
   ],
   "source": [
    "# Obtener a partir de la matriz de covarianza los eigen vectors\n",
    "# y eigen values \n",
    "\n",
    "eigen_values, eigen_vectors = np.linalg.eig(covariance_matrix)\n",
    "print(\"Eigen vectors: \\n\", eigen_vectors, \"\\n\")\n",
    "print(\"Eigen values: \\n\", eigen_values)"
   ]
  },
  {
   "cell_type": "markdown",
   "id": "332d69bb",
   "metadata": {},
   "source": [
    "### Tarea 6: Singular Value Decomposition (SVD) / otra vía para realizar PCA (componente más efectiva)"
   ]
  },
  {
   "cell_type": "code",
   "execution_count": 38,
   "id": "593f0f43",
   "metadata": {},
   "outputs": [],
   "source": [
    "eigen_vectors_svd, s , v = np.linalg.svd(X.T)"
   ]
  },
  {
   "cell_type": "code",
   "execution_count": 40,
   "id": "2152e222",
   "metadata": {},
   "outputs": [
    {
     "data": {
      "text/plain": [
       "array([[-0.52230226, -0.37279119,  0.72000204,  0.26424259],\n",
       "       [ 0.26361895, -0.92535433, -0.2418424 , -0.1254459 ],\n",
       "       [-0.58130506, -0.02079959, -0.13827615, -0.80158063],\n",
       "       [-0.56549963, -0.06567705, -0.63560131,  0.52144767]])"
      ]
     },
     "execution_count": 40,
     "metadata": {},
     "output_type": "execute_result"
    }
   ],
   "source": [
    "eigen_vectors_svd \n",
    "\n",
    "# el signo no importa, lo que se necesita es encontrar la dirección (nos da el eje)\n",
    "# el signo no importa, son los mismos componentes principales"
   ]
  },
  {
   "cell_type": "markdown",
   "id": "81e58700",
   "metadata": {},
   "source": [
    "### Tarea 7: Selección de los componentes principales (eigenvectors)"
   ]
  },
  {
   "cell_type": "code",
   "execution_count": 41,
   "id": "7dcbff9a",
   "metadata": {},
   "outputs": [
    {
     "name": "stdout",
     "output_type": "stream",
     "text": [
      "2.929472022268895\n",
      "0.9275101577729449\n",
      "0.14912022978813505\n",
      "0.021294850443996795\n"
     ]
    }
   ],
   "source": [
    "# Como selecciono los componentes principales ??\n",
    "# De acuerdo al valor del autovalor (ordenando de mayor a menor)\n",
    "for val in eigen_values:\n",
    "    print(val)"
   ]
  },
  {
   "cell_type": "code",
   "execution_count": 43,
   "id": "f7a31cb2",
   "metadata": {},
   "outputs": [
    {
     "data": {
      "text/plain": [
       "[72.73859102912563, 23.030014121573124, 3.7026451614060747, 0.5287496878951586]"
      ]
     },
     "execution_count": 43,
     "metadata": {},
     "output_type": "execute_result"
    }
   ],
   "source": [
    "# Impacto de los componentes principales (eigen vectors) sobre la data\n",
    "variance_explained = [(i/sum(eigen_values))*100 for i in eigen_values]\n",
    "variance_explained "
   ]
  },
  {
   "cell_type": "code",
   "execution_count": 44,
   "id": "5a60de11",
   "metadata": {},
   "outputs": [],
   "source": [
    "# El 72.74 % de la data (dataset - X) es explicado con la primera componente principal"
   ]
  },
  {
   "cell_type": "code",
   "execution_count": 46,
   "id": "38d10a90",
   "metadata": {},
   "outputs": [
    {
     "data": {
      "text/plain": [
       "array([ 72.73859103,  95.76860515,  99.47125031, 100.        ])"
      ]
     },
     "execution_count": 46,
     "metadata": {},
     "output_type": "execute_result"
    }
   ],
   "source": [
    "# Podría seleccionar los dos primeras componentes principales\n",
    "cumulative_variance_explained = np.cumsum(variance_explained)\n",
    "cumulative_variance_explained"
   ]
  },
  {
   "cell_type": "code",
   "execution_count": 48,
   "id": "90260a75",
   "metadata": {},
   "outputs": [
    {
     "data": {
      "image/png": "[encoded data removed]",
      "text/plain": [
       "<Figure size 864x576 with 1 Axes>"
      ]
     },
     "metadata": {},
     "output_type": "display_data"
    }
   ],
   "source": [
    "sns.lineplot(x = [1,2,3,4], y = cumulative_variance_explained)\n",
    "plt.xlabel(\"Number of components\")\n",
    "plt.ylabel(\"Cummulative expained variance\")\n",
    "plt.title(\"Exaplined variance vs Number of components\")\n",
    "#plt.grid()\n",
    "plt.show()"
   ]
  },
  {
   "cell_type": "markdown",
   "id": "fd300512",
   "metadata": {},
   "source": [
    "### Tares 8: Proyectar los datos en un subespacio lineal de menor orden (reducción de dimensionalidad)"
   ]
  },
  {
   "cell_type": "code",
   "execution_count": 49,
   "id": "9c3932ef",
   "metadata": {},
   "outputs": [],
   "source": [
    "# Puedo reducir la dimensionalidad de X?\n",
    "# Sí. Porque ya tengo los componenetes principales"
   ]
  },
  {
   "cell_type": "code",
   "execution_count": 50,
   "id": "818e1361",
   "metadata": {},
   "outputs": [
    {
     "data": {
      "text/plain": [
       "array([[ 0.52230226, -0.37279119, -0.72000204,  0.26424259],\n",
       "       [-0.26361895, -0.92535433,  0.2418424 , -0.1254459 ],\n",
       "       [ 0.58130506, -0.02079959,  0.13827615, -0.80158063],\n",
       "       [ 0.56549963, -0.06567705,  0.63560131,  0.52144767]])"
      ]
     },
     "execution_count": 50,
     "metadata": {},
     "output_type": "execute_result"
    }
   ],
   "source": [
    "eigen_vectors"
   ]
  },
  {
   "cell_type": "code",
   "execution_count": 51,
   "id": "95dec7e8",
   "metadata": {},
   "outputs": [
    {
     "name": "stdout",
     "output_type": "stream",
     "text": [
      "Projection matrix: \n",
      "  [[ 0.52230226 -0.37279119]\n",
      " [-0.26361895 -0.92535433]\n",
      " [ 0.58130506 -0.02079959]\n",
      " [ 0.56549963 -0.06567705]]\n"
     ]
    }
   ],
   "source": [
    "#XPCA = X . componentes principles (eigenvectors)\n",
    "projection_matrix = (eigen_vectors.T[:][:])[:2].T\n",
    "print(\"Projection matrix: \\n \", projection_matrix)"
   ]
  },
  {
   "cell_type": "code",
   "execution_count": 53,
   "id": "3243ee75",
   "metadata": {},
   "outputs": [
    {
     "data": {
      "text/plain": [
       "array([[-2.29165366, -0.48657587],\n",
       "       [-2.11542834,  0.66601465],\n",
       "       [-2.39606952,  0.33249272],\n",
       "       [-2.33243473,  0.5877082 ],\n",
       "       [-2.41539508, -0.65393005],\n",
       "       [-2.09491917, -1.49276267],\n",
       "       [-2.47231065, -0.05721475],\n",
       "       [-2.26117724, -0.23017395],\n",
       "       [-2.37095698,  1.10407134],\n",
       "       [-2.21767136,  0.46105253],\n",
       "       [-2.18991974, -1.04805609],\n",
       "       [-2.35444222, -0.14112621],\n",
       "       [-2.25351167,  0.71982732],\n",
       "       [-2.66904514,  0.94897205],\n",
       "       [-2.21813735, -1.86237893],\n",
       "       [-2.27424956, -2.68809739],\n",
       "       [-2.22755264, -1.48801693],\n",
       "       [-2.21678201, -0.49527145],\n",
       "       [-1.91962607, -1.40694707],\n",
       "       [-2.36521285, -1.13387169],\n",
       "       [-1.9420138 , -0.41301516],\n",
       "       [-2.22981146, -0.930096  ],\n",
       "       [-2.80087524, -0.46871597],\n",
       "       [-1.84650413, -0.09127939],\n",
       "       [-2.25496712, -0.14468551],\n",
       "       [-1.98589993,  0.61852469],\n",
       "       [-2.07827556, -0.24875155],\n",
       "       [-2.19528362, -0.53287939],\n",
       "       [-2.16791225, -0.31922168],\n",
       "       [-2.29659443,  0.32893341],\n",
       "       [-2.17285301,  0.49628759],\n",
       "       [-1.85858723, -0.42803346],\n",
       "       [-2.63333369, -1.79901141],\n",
       "       [-2.46251511, -2.15434308],\n",
       "       [-2.23959286,  0.19832789],\n",
       "       [-2.07196533, -0.66585777],\n",
       "       [-2.46464508,  0.89278651],\n",
       "       [-2.19796556, -0.27529103],\n",
       "       [-2.31315205, -0.44896793],\n",
       "       [-1.9028536 ,  2.32627272],\n",
       "       [-2.58570455,  0.46784397],\n",
       "       [-1.98906199, -0.47861399],\n",
       "       [-2.15770773, -1.14731301],\n",
       "       [-2.10376836,  0.70243615],\n",
       "       [-2.40692614, -1.12636254],\n",
       "       [-2.42612283,  0.37642337],\n",
       "       [-2.25313142, -1.00293901],\n",
       "       [-2.23380587, -0.01651624],\n",
       "       [ 1.08364332, -0.84988604],\n",
       "       [ 0.71292819, -0.58550625],\n",
       "       [ 1.22214977, -0.60336615],\n",
       "       [ 0.3732556 ,  1.75611228],\n",
       "       [ 1.05141718,  0.21807531],\n",
       "       [ 0.3628221 ,  0.59758959],\n",
       "       [ 0.73037517, -0.76392888],\n",
       "       [-0.52326772,  1.84873532],\n",
       "       [ 0.90435581, -0.02212188],\n",
       "       [-0.01678508,  1.03406931],\n",
       "       [-0.15162037,  2.65113044],\n",
       "       [ 0.41845419,  0.06858102],\n",
       "       [ 0.52522874,  1.76908487],\n",
       "       [ 0.69632745,  0.19358153],\n",
       "       [-0.05934461,  0.44091332],\n",
       "       [ 0.85506293, -0.49850422],\n",
       "       [ 0.32829426,  0.20037297],\n",
       "       [ 0.12931508,  0.79577627],\n",
       "       [ 1.1918022 ,  1.62944061],\n",
       "       [ 0.13250612,  1.30463026],\n",
       "       [ 0.72095988, -0.38956688],\n",
       "       [ 0.44987697,  0.42305342],\n",
       "       [ 1.20605813,  0.94216398],\n",
       "       [ 0.60711388,  0.42344397],\n",
       "       [ 0.67845736,  0.0716716 ],\n",
       "       [ 0.85238099, -0.24091586],\n",
       "       [ 1.23249728,  0.08904676],\n",
       "       [ 1.33915783, -0.31923831],\n",
       "       [ 0.6416707 ,  0.2323759 ],\n",
       "       [-0.07231706,  1.06048323],\n",
       "       [ 0.09666582,  1.56340505],\n",
       "       [-0.0113642 ,  1.57328707],\n",
       "       [ 0.21274166,  0.78075797],\n",
       "       [ 1.03655202,  0.64150424],\n",
       "       [ 0.20187091,  0.29060714],\n",
       "       [ 0.41389368, -0.83867602],\n",
       "       [ 1.02940969, -0.5107591 ],\n",
       "       [ 1.01158246,  1.39042985],\n",
       "       [ 0.04591749,  0.22250988],\n",
       "       [ 0.25219613,  1.33116974],\n",
       "       [ 0.2494282 ,  1.12264832],\n",
       "       [ 0.60263935, -0.0177033 ],\n",
       "       [ 0.30642976,  0.9920428 ],\n",
       "       [-0.39952631,  2.0160895 ],\n",
       "       [ 0.26066506,  0.85873725],\n",
       "       [ 0.06741587,  0.18490195],\n",
       "       [ 0.20281727,  0.38867763],\n",
       "       [ 0.55203401,  0.16190577],\n",
       "       [-0.48197755,  1.5408936 ],\n",
       "       [ 0.23018863,  0.60233533],\n",
       "       [ 1.83527883, -0.85761279],\n",
       "       [ 1.13474364,  0.70565166],\n",
       "       [ 2.18991645, -0.5451669 ],\n",
       "       [ 1.42066272,  0.05788711],\n",
       "       [ 1.85235969, -0.28197354],\n",
       "       [ 2.73808339, -0.77905737],\n",
       "       [ 0.33820453,  1.56115774],\n",
       "       [ 2.28488804, -0.40158879],\n",
       "       [ 1.9819451 ,  0.72493097],\n",
       "       [ 2.25575307, -1.9022668 ],\n",
       "       [ 1.34944834, -0.68121986],\n",
       "       [ 1.58033042,  0.43257628],\n",
       "       [ 1.86764796, -0.40506991],\n",
       "       [ 1.23430473,  1.16820213],\n",
       "       [ 1.44857218,  0.44970247],\n",
       "       [ 1.57716837, -0.6645624 ],\n",
       "       [ 1.45339797, -0.2436319 ],\n",
       "       [ 2.4250872 , -2.53382662],\n",
       "       [ 3.29263242,  0.00476014],\n",
       "       [ 1.23117068,  1.7137426 ],\n",
       "       [ 2.02586021, -0.89489357],\n",
       "       [ 0.95634548,  0.57709185],\n",
       "       [ 2.88064125, -0.39172277],\n",
       "       [ 1.30961363,  0.49113469],\n",
       "       [ 1.68916381, -0.99973949],\n",
       "       [ 1.94061205, -0.99032621],\n",
       "       [ 1.15271385,  0.32496694],\n",
       "       [ 1.00160107, -0.05604495],\n",
       "       [ 1.7690191 ,  0.19915454],\n",
       "       [ 1.84561148, -0.54561963],\n",
       "       [ 2.41718437, -0.24055732],\n",
       "       [ 2.30229214, -2.60311032],\n",
       "       [ 1.84389075,  0.19045895],\n",
       "       [ 1.09078566,  0.3023773 ],\n",
       "       [ 1.17634196,  0.82031742],\n",
       "       [ 2.78524655, -0.83563345],\n",
       "       [ 1.56724398, -1.05664274],\n",
       "       [ 1.32965656, -0.41098608],\n",
       "       [ 0.90523103, -0.00974143],\n",
       "       [ 1.83717153, -0.66147182],\n",
       "       [ 2.00167988, -0.59969728],\n",
       "       [ 1.88743975, -0.67530369],\n",
       "       [ 2.02896527, -0.85214935],\n",
       "       [ 1.98865043, -1.03452183],\n",
       "       [ 1.8547045 , -0.37378468],\n",
       "       [ 1.53870312,  0.9061952 ],\n",
       "       [ 1.50366618, -0.25746376],\n",
       "       [ 1.36284391, -1.0004572 ],\n",
       "       [ 0.94149445,  0.03181636]])"
      ]
     },
     "execution_count": 53,
     "metadata": {},
     "output_type": "execute_result"
    }
   ],
   "source": [
    "X_pca = X.dot(projection_matrix)\n",
    "X_pca"
   ]
  },
  {
   "cell_type": "code",
   "execution_count": 57,
   "id": "d56b492f",
   "metadata": {},
   "outputs": [
    {
     "name": "stderr",
     "output_type": "stream",
     "text": [
      "C:\\Users\\Mateo\\anaconda3\\lib\\site-packages\\seaborn\\_decorators.py:36: FutureWarning: Pass the following variables as keyword args: x, y. From version 0.12, the only valid positional argument will be `data`, and passing other arguments without an explicit keyword will result in an error or misinterpretation.\n",
      "  warnings.warn(\n",
      "C:\\Users\\Mateo\\anaconda3\\lib\\site-packages\\seaborn\\_decorators.py:36: FutureWarning: Pass the following variables as keyword args: x, y. From version 0.12, the only valid positional argument will be `data`, and passing other arguments without an explicit keyword will result in an error or misinterpretation.\n",
      "  warnings.warn(\n",
      "C:\\Users\\Mateo\\anaconda3\\lib\\site-packages\\seaborn\\_decorators.py:36: FutureWarning: Pass the following variables as keyword args: x, y. From version 0.12, the only valid positional argument will be `data`, and passing other arguments without an explicit keyword will result in an error or misinterpretation.\n",
      "  warnings.warn(\n"
     ]
    },
    {
     "data": {
      "image/png": "[encoded data removed]",
      "text/plain": [
       "<Figure size 864x576 with 1 Axes>"
      ]
     },
     "metadata": {},
     "output_type": "display_data"
    }
   ],
   "source": [
    "for species in ('Iris-setosa', 'Iris-versicolor', 'Iris-virginica'):\n",
    "    sns.scatterplot(X_pca[Y==species,0], X_pca[Y==species,1])"
   ]
  },
  {
   "cell_type": "code",
   "execution_count": null,
   "id": "4d70e1c1",
   "metadata": {},
   "outputs": [],
   "source": []
  }
 ],
 "metadata": {
  "kernelspec": {
   "display_name": "Python 3",
   "language": "python",
   "name": "python3"
  },
  "language_info": {
   "codemirror_mode": {
    "name": "ipython",
    "version": 3
   },
   "file_extension": ".py",
   "mimetype": "text/x-python",
   "name": "python",
   "nbconvert_exporter": "python",
   "pygments_lexer": "ipython3",
   "version": "3.8.8"
  }
 },
 "nbformat": 4,
 "nbformat_minor": 5
}
